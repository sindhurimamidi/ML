{
 "metadata": {
  "name": "",
  "signature": "sha256:0f54791fe0576a485f729dc8f5f5637837e76fc29147e39fa872bf513280a07f"
 },
 "nbformat": 3,
 "nbformat_minor": 0,
 "worksheets": [
  {
   "cells": [
    {
     "cell_type": "markdown",
     "metadata": {},
     "source": [
      "#US BABY NAME ANALYSIS"
     ]
    },
    {
     "cell_type": "markdown",
     "metadata": {},
     "source": [
      "####Downloding and Extracting the files:"
     ]
    },
    {
     "cell_type": "code",
     "collapsed": false,
     "input": [
      "import urllib\n",
      "url = 'https://www.ssa.gov/oact/babynames/names.zip'\n",
      "path = '/Users/sindhuri/Downloads/names.zip'  \n",
      "# Change the path to your local directory.\n",
      "urllib.urlretrieve(url,path)\n",
      "print 'Done Downloading'\n"
     ],
     "language": "python",
     "metadata": {},
     "outputs": [
      {
       "output_type": "stream",
       "stream": "stdout",
       "text": [
        "Done Downloading\n"
       ]
      }
     ],
     "prompt_number": 198
    },
    {
     "cell_type": "code",
     "collapsed": false,
     "input": [
      "import zipfile\n",
      "zipref = zipfile.ZipFile('/Users/sindhuri/Downloads/names.zip','r')\n",
      "zipref.extractall('/Users/sindhuri/Downloads/names')\n",
      "zipref.close()\n",
      "print 'Done Extracting'"
     ],
     "language": "python",
     "metadata": {},
     "outputs": [
      {
       "output_type": "stream",
       "stream": "stdout",
       "text": [
        "Done Extracting\n"
       ]
      }
     ],
     "prompt_number": 199
    },
    {
     "cell_type": "markdown",
     "metadata": {},
     "source": [
      "#####All the files are extracted to a local directory and then I am merging all of the files with an extra column named as year to fit into a single Dataframe for analyzing.\n"
     ]
    },
    {
     "cell_type": "code",
     "collapsed": false,
     "input": [
      "import pandas as pd\n",
      "import numpy as np\n",
      "import glob\n",
      "import os\n",
      "import re\n",
      "\n",
      "\n",
      "Files_Path = '/Users/sindhuri/Downloads/names'\n",
      "All = glob.glob(Files_Path + \"/*.txt\")\n",
      "BabyNamesDF = pd.DataFrame()\n",
      "FilesList = []\n",
      "for f in All:\n",
      "    DF = pd.read_csv(f,header=None)\n",
      "    filename= f.split(\"/\")[-1]\n",
      "    regex = re.compile('[^0-9]')\n",
      "    DOB_year = regex.sub('',filename)\n",
      "    DF['year'] = int(DOB_year)\n",
      "    DF.columns = ['Name','Gender','Num_of_births','Year']\n",
      "    FilesList.append(DF)\n",
      "BabyNamesDF = pd.concat(FilesList)\n",
      "BabyNamesDF.head()                  "
     ],
     "language": "python",
     "metadata": {},
     "outputs": [
      {
       "html": [
        "<div style=\"max-width:1500px;overflow:auto;\">\n",
        "<table border=\"1\" class=\"dataframe\">\n",
        "  <thead>\n",
        "    <tr style=\"text-align: right;\">\n",
        "      <th></th>\n",
        "      <th>Name</th>\n",
        "      <th>Gender</th>\n",
        "      <th>Num_of_births</th>\n",
        "      <th>Year</th>\n",
        "    </tr>\n",
        "  </thead>\n",
        "  <tbody>\n",
        "    <tr>\n",
        "      <th>0</th>\n",
        "      <td>Mary</td>\n",
        "      <td>F</td>\n",
        "      <td>7065</td>\n",
        "      <td>1880</td>\n",
        "    </tr>\n",
        "    <tr>\n",
        "      <th>1</th>\n",
        "      <td>Anna</td>\n",
        "      <td>F</td>\n",
        "      <td>2604</td>\n",
        "      <td>1880</td>\n",
        "    </tr>\n",
        "    <tr>\n",
        "      <th>2</th>\n",
        "      <td>Emma</td>\n",
        "      <td>F</td>\n",
        "      <td>2003</td>\n",
        "      <td>1880</td>\n",
        "    </tr>\n",
        "    <tr>\n",
        "      <th>3</th>\n",
        "      <td>Elizabeth</td>\n",
        "      <td>F</td>\n",
        "      <td>1939</td>\n",
        "      <td>1880</td>\n",
        "    </tr>\n",
        "    <tr>\n",
        "      <th>4</th>\n",
        "      <td>Minnie</td>\n",
        "      <td>F</td>\n",
        "      <td>1746</td>\n",
        "      <td>1880</td>\n",
        "    </tr>\n",
        "  </tbody>\n",
        "</table>\n",
        "</div>"
       ],
       "metadata": {},
       "output_type": "pyout",
       "prompt_number": 200,
       "text": [
        "        Name Gender  Num_of_births  Year\n",
        "0       Mary      F           7065  1880\n",
        "1       Anna      F           2604  1880\n",
        "2       Emma      F           2003  1880\n",
        "3  Elizabeth      F           1939  1880\n",
        "4     Minnie      F           1746  1880"
       ]
      }
     ],
     "prompt_number": 200
    },
    {
     "cell_type": "markdown",
     "metadata": {},
     "source": [
      "####checking the datatypes of the Dataframe."
     ]
    },
    {
     "cell_type": "code",
     "collapsed": false,
     "input": [
      "BabyNamesDF.dtypes   "
     ],
     "language": "python",
     "metadata": {},
     "outputs": [
      {
       "metadata": {},
       "output_type": "pyout",
       "prompt_number": 201,
       "text": [
        "Name             object\n",
        "Gender           object\n",
        "Num_of_births     int64\n",
        "Year              int64\n",
        "dtype: object"
       ]
      }
     ],
     "prompt_number": 201
    },
    {
     "cell_type": "markdown",
     "metadata": {},
     "source": [
      "#Solutions:"
     ]
    },
    {
     "cell_type": "markdown",
     "metadata": {},
     "source": [
      "###1. How many babies were named \"Barack\" for each year in the dataset? Which year had the highest number of them?"
     ]
    },
    {
     "cell_type": "code",
     "collapsed": false,
     "input": [
      "Yeargroup = BabyNamesDF.groupby('Year').size()\n",
      "pattern = '^Barack$'\n",
      "Barack = BabyNamesDF[BabyNamesDF.Name.str.contains(pattern)]\n",
      "print 'Number of babies named Barack in the years:' \n",
      "#I am only showing those years in which the Baby names were Barack, ignoring years are exhaustive.\n",
      "print Barack [['Num_of_births','Year']]\n",
      "print 'Highest number of Baracks in year: ', Barack.loc[Barack['Num_of_births'].idxmax()]['Year']"
     ],
     "language": "python",
     "metadata": {},
     "outputs": [
      {
       "output_type": "stream",
       "stream": "stdout",
       "text": [
        "Number of babies named Barack in the years:\n",
        "       Num_of_births  Year\n",
        "33110              5  2007\n",
        "22874             52  2008\n",
        "22176             69  2009\n",
        "23517             28  2010\n",
        "25234             15  2011\n",
        "24965             16  2012\n",
        "26256             11  2013\n",
        "26247             11  2014\n",
        "27783              8  2015\n",
        "Highest number of Baracks in year:  2009\n"
       ]
      }
     ],
     "prompt_number": 202
    },
    {
     "cell_type": "markdown",
     "metadata": {},
     "source": [
      "###2. If a baby named \"Jordan\" was born in 2003, what is the probability that it was a boy? If a baby named \"Jordan\" was born in 2013, what is the probablity that it was a boy?\n"
     ]
    },
    {
     "cell_type": "code",
     "collapsed": false,
     "input": [
      "def Probablity(pattern,yr,gender):\n",
      "    pattern2 = '^' + pattern + '$' #exact string matching.\n",
      "    Jordan_yr = BabyNamesDF[(BabyNamesDF.Name.str.contains(pattern2)) & (BabyNamesDF.Year == yr)] \n",
      "    Jordan_male = BabyNamesDF[(BabyNamesDF.Name.str.contains(pattern2)) & (BabyNamesDF.Year == yr) & (BabyNamesDF.Gender == gender)] \n",
      "    print 'Probabilty of '+ ' name '+ pattern +' and gender '+gender +' in year '+ str(yr) + ' is: ' \n",
      "    print float(Jordan_male['Num_of_births'].sum())/float(Jordan_yr['Num_of_births'].sum())\n",
      "\n",
      "Probablity(\"Jordan\",2003,\"M\")    \n",
      "Probablity(\"Jordan\",2013,\"M\")  \n"
     ],
     "language": "python",
     "metadata": {},
     "outputs": [
      {
       "output_type": "stream",
       "stream": "stdout",
       "text": [
        "Probabilty of  name Jordan and gender M in year 2003 is: \n",
        "0.646407110666\n",
        "Probabilty of  name Jordan and gender M in year 2013 is: "
       ]
      },
      {
       "output_type": "stream",
       "stream": "stdout",
       "text": [
        "\n",
        "0.853525145643\n"
       ]
      }
     ],
     "prompt_number": 203
    },
    {
     "cell_type": "markdown",
     "metadata": {},
     "source": [
      "###3. If a baby named \"Tesla\" was born in 2013, what is the probablity that it was a boy? If a baby named \"Tesla\" was born in 2003, what is the probablity that it was a boy?"
     ]
    },
    {
     "cell_type": "code",
     "collapsed": false,
     "input": [
      "Probablity(\"Tesla\",2003,\"M\")    \n",
      "Probablity(\"Tesla\",2013,\"M\")"
     ],
     "language": "python",
     "metadata": {},
     "outputs": [
      {
       "output_type": "stream",
       "stream": "stdout",
       "text": [
        "Probabilty of  name Tesla and gender M in year 2003 is: \n",
        "0.0\n",
        "Probabilty of  name Tesla and gender M in year 2013 is: "
       ]
      },
      {
       "output_type": "stream",
       "stream": "stdout",
       "text": [
        "\n",
        "0.0945945945946\n"
       ]
      }
     ],
     "prompt_number": 204
    },
    {
     "cell_type": "markdown",
     "metadata": {},
     "source": [
      "###4. What are the 5 most \"gender neutral\" names in 2014?"
     ]
    },
    {
     "cell_type": "markdown",
     "metadata": {},
     "source": [
      "#### I am creating two different views here:\n",
      "One for the total number of duplicated names: one would be for Boy and the other one would be for Girl. This shows there would be duplicate names with different gender.\n",
      "I am grouping the Total names irrespective of gender as one frame and the other including the gender and grouping on name.\n",
      "Later, I am adding the combined score of Boy and Girl and dividing them with the Total score and finally checking if this value is zero, there by searching for names that are gender neutral."
     ]
    },
    {
     "cell_type": "code",
     "collapsed": false,
     "input": [
      "newview = pd.DataFrame(BabyNamesDF[BabyNamesDF['Year'] == 2014])\n",
      "gen_neutral = pd.DataFrame(newview.groupby(['Name','Gender'])['Num_of_births'].sum()).reset_index()\n",
      "gen_neutral = gen_neutral.drop_duplicates(subset='Name',keep='first').reset_index()\n",
      "\n",
      "gen_total = pd.DataFrame(newview.groupby(['Name'])['Num_of_births'].sum()).reset_index()\n",
      "gen_total.sort_values(['Name'])\n",
      "\n",
      "gen_neutral.sort_values(['Name'])\n",
      "\n",
      "gen_total['Prob'] = abs((2*gen_neutral['Num_of_births'])/gen_total['Num_of_births']-1)\n",
      "gen_total.sort_values(['Prob','Num_of_births'],ascending = [True,False],inplace=True)\n",
      "\n",
      "genneutral = gen_total[gen_total['Prob']==0][:5]\n",
      "\n",
      "print \"The 5 most gender neutral names in 2014 are : \" \n",
      "print genneutral['Name']"
     ],
     "language": "python",
     "metadata": {},
     "outputs": [
      {
       "output_type": "stream",
       "stream": "stdout",
       "text": [
        "The 5 most gender neutral names in 2014 are : \n",
        "17943      Landry\n",
        "628           Adi\n",
        "8588          Dru\n",
        "29706        Yona\n",
        "6461     Christin\n",
        "Name: Name, dtype: object\n"
       ]
      }
     ],
     "prompt_number": 205
    },
    {
     "cell_type": "markdown",
     "metadata": {},
     "source": [
      "###5. What baby names were especially popular in the 1990s, compared to the 2000s?"
     ]
    },
    {
     "cell_type": "markdown",
     "metadata": {},
     "source": [
      "####Creating two different views based on my assumption of years 1990s as between (1990-1999) and 2000s as any year after 1999.\n",
      "\n",
      "I am grouping them based on the name as the sum of number of births on that particular name in the date range. Creating a method is easier to find out the same for various date ranges."
     ]
    },
    {
     "cell_type": "code",
     "collapsed": false,
     "input": [
      "BabyNamesDF_1990 = BabyNamesDF[(BabyNamesDF[\"Year\"] >= 1990) & (BabyNamesDF[\"Year\"] < 2000) ]\n",
      "BabyNamesDF_2000 = BabyNamesDF[(BabyNamesDF[\"Year\"] >= 2000)]\n",
      "\n",
      "\n",
      "def Popular_Baby_Names(takedf):\n",
      "    most_popular = takedf.groupby(by=['Name'])['Num_of_births'].sum()\n",
      "    most_popular.sort_values(inplace = True, ascending= False)\n",
      "    return most_popular[:5]\n",
      "    \n",
      "print 'Popular babies of 1990s: \\n',Popular_Baby_Names(BabyNamesDF_1990)  \n",
      "print 'Popular babies of 2000s: \\n',Popular_Baby_Names(BabyNamesDF_2000)"
     ],
     "language": "python",
     "metadata": {},
     "outputs": [
      {
       "ename": "NameError",
       "evalue": "name 'BabyNamesDF' is not defined",
       "output_type": "pyerr",
       "traceback": [
        "\u001b[0;31m---------------------------------------------------------------------------\u001b[0m\n\u001b[0;31mNameError\u001b[0m                                 Traceback (most recent call last)",
        "\u001b[0;32m<ipython-input-6-6647c0ca1d9a>\u001b[0m in \u001b[0;36m<module>\u001b[0;34m()\u001b[0m\n\u001b[0;32m----> 1\u001b[0;31m \u001b[0mBabyNamesDF_1990\u001b[0m \u001b[0;34m=\u001b[0m \u001b[0mBabyNamesDF\u001b[0m\u001b[0;34m[\u001b[0m\u001b[0;34m(\u001b[0m\u001b[0mBabyNamesDF\u001b[0m\u001b[0;34m[\u001b[0m\u001b[0;34m\"Year\"\u001b[0m\u001b[0;34m]\u001b[0m \u001b[0;34m>=\u001b[0m \u001b[0;36m1990\u001b[0m\u001b[0;34m)\u001b[0m \u001b[0;34m&\u001b[0m \u001b[0;34m(\u001b[0m\u001b[0mBabyNamesDF\u001b[0m\u001b[0;34m[\u001b[0m\u001b[0;34m\"Year\"\u001b[0m\u001b[0;34m]\u001b[0m \u001b[0;34m<\u001b[0m \u001b[0;36m2000\u001b[0m\u001b[0;34m)\u001b[0m \u001b[0;34m]\u001b[0m\u001b[0;34m\u001b[0m\u001b[0m\n\u001b[0m\u001b[1;32m      2\u001b[0m \u001b[0mBabyNamesDF_2000\u001b[0m \u001b[0;34m=\u001b[0m \u001b[0mBabyNamesDF\u001b[0m\u001b[0;34m[\u001b[0m\u001b[0;34m(\u001b[0m\u001b[0mBabyNamesDF\u001b[0m\u001b[0;34m[\u001b[0m\u001b[0;34m\"Year\"\u001b[0m\u001b[0;34m]\u001b[0m \u001b[0;34m>=\u001b[0m \u001b[0;36m2000\u001b[0m\u001b[0;34m)\u001b[0m\u001b[0;34m]\u001b[0m\u001b[0;34m\u001b[0m\u001b[0m\n\u001b[1;32m      3\u001b[0m \u001b[0;34m\u001b[0m\u001b[0m\n\u001b[1;32m      4\u001b[0m \u001b[0;34m\u001b[0m\u001b[0m\n\u001b[1;32m      5\u001b[0m \u001b[0;32mdef\u001b[0m \u001b[0mPopular_Baby_Names\u001b[0m\u001b[0;34m(\u001b[0m\u001b[0mtakedf\u001b[0m\u001b[0;34m)\u001b[0m\u001b[0;34m:\u001b[0m\u001b[0;34m\u001b[0m\u001b[0m\n",
        "\u001b[0;31mNameError\u001b[0m: name 'BabyNamesDF' is not defined"
       ]
      }
     ],
     "prompt_number": 6
    },
    {
     "cell_type": "code",
     "collapsed": false,
     "input": [
      "import pandas as pd\n",
      "import numpy as np\n",
      "df = pd.read_csv('/Users/sindhuri/Desktop/abc.csv', header = None)\n",
      "df.columns = ['Name','Gender','Num_of_births']\n",
      "gen = df.groupby(['Name','Gender']).sum().reset_index()\n",
      "gen"
     ],
     "language": "python",
     "metadata": {},
     "outputs": [
      {
       "html": [
        "<div style=\"max-width:1500px;overflow:auto;\">\n",
        "<table border=\"1\" class=\"dataframe\">\n",
        "  <thead>\n",
        "    <tr style=\"text-align: right;\">\n",
        "      <th></th>\n",
        "      <th>Name</th>\n",
        "      <th>Gender</th>\n",
        "      <th>Num_of_births</th>\n",
        "    </tr>\n",
        "  </thead>\n",
        "  <tbody>\n",
        "    <tr>\n",
        "      <th>0</th>\n",
        "      <td>Adi</td>\n",
        "      <td>F</td>\n",
        "      <td>28</td>\n",
        "    </tr>\n",
        "    <tr>\n",
        "      <th>1</th>\n",
        "      <td>Adi</td>\n",
        "      <td>M</td>\n",
        "      <td>28</td>\n",
        "    </tr>\n",
        "    <tr>\n",
        "      <th>2</th>\n",
        "      <td>Dru</td>\n",
        "      <td>F</td>\n",
        "      <td>26</td>\n",
        "    </tr>\n",
        "    <tr>\n",
        "      <th>3</th>\n",
        "      <td>Dru</td>\n",
        "      <td>M</td>\n",
        "      <td>26</td>\n",
        "    </tr>\n",
        "    <tr>\n",
        "      <th>4</th>\n",
        "      <td>Giancarlo</td>\n",
        "      <td>M</td>\n",
        "      <td>272</td>\n",
        "    </tr>\n",
        "    <tr>\n",
        "      <th>5</th>\n",
        "      <td>Kosei</td>\n",
        "      <td>M</td>\n",
        "      <td>5</td>\n",
        "    </tr>\n",
        "    <tr>\n",
        "      <th>6</th>\n",
        "      <td>Kostantinos</td>\n",
        "      <td>M</td>\n",
        "      <td>5</td>\n",
        "    </tr>\n",
        "    <tr>\n",
        "      <th>7</th>\n",
        "      <td>Kostas</td>\n",
        "      <td>M</td>\n",
        "      <td>5</td>\n",
        "    </tr>\n",
        "    <tr>\n",
        "      <th>8</th>\n",
        "      <td>Kourtland</td>\n",
        "      <td>M</td>\n",
        "      <td>5</td>\n",
        "    </tr>\n",
        "    <tr>\n",
        "      <th>9</th>\n",
        "      <td>Kraig</td>\n",
        "      <td>M</td>\n",
        "      <td>5</td>\n",
        "    </tr>\n",
        "    <tr>\n",
        "      <th>10</th>\n",
        "      <td>Krimson</td>\n",
        "      <td>M</td>\n",
        "      <td>5</td>\n",
        "    </tr>\n",
        "    <tr>\n",
        "      <th>11</th>\n",
        "      <td>Krisean</td>\n",
        "      <td>M</td>\n",
        "      <td>5</td>\n",
        "    </tr>\n",
        "    <tr>\n",
        "      <th>12</th>\n",
        "      <td>Krishal</td>\n",
        "      <td>M</td>\n",
        "      <td>5</td>\n",
        "    </tr>\n",
        "    <tr>\n",
        "      <th>13</th>\n",
        "      <td>Krishil</td>\n",
        "      <td>M</td>\n",
        "      <td>5</td>\n",
        "    </tr>\n",
        "    <tr>\n",
        "      <th>14</th>\n",
        "      <td>Kriss</td>\n",
        "      <td>M</td>\n",
        "      <td>5</td>\n",
        "    </tr>\n",
        "    <tr>\n",
        "      <th>15</th>\n",
        "      <td>Krisstopher</td>\n",
        "      <td>M</td>\n",
        "      <td>5</td>\n",
        "    </tr>\n",
        "    <tr>\n",
        "      <th>16</th>\n",
        "      <td>Kristain</td>\n",
        "      <td>M</td>\n",
        "      <td>5</td>\n",
        "    </tr>\n",
        "    <tr>\n",
        "      <th>17</th>\n",
        "      <td>Kriyansh</td>\n",
        "      <td>M</td>\n",
        "      <td>5</td>\n",
        "    </tr>\n",
        "    <tr>\n",
        "      <th>18</th>\n",
        "      <td>Krrish</td>\n",
        "      <td>M</td>\n",
        "      <td>5</td>\n",
        "    </tr>\n",
        "    <tr>\n",
        "      <th>19</th>\n",
        "      <td>Kruize</td>\n",
        "      <td>M</td>\n",
        "      <td>5</td>\n",
        "    </tr>\n",
        "    <tr>\n",
        "      <th>20</th>\n",
        "      <td>Ku</td>\n",
        "      <td>M</td>\n",
        "      <td>5</td>\n",
        "    </tr>\n",
        "    <tr>\n",
        "      <th>21</th>\n",
        "      <td>Kwamane</td>\n",
        "      <td>M</td>\n",
        "      <td>5</td>\n",
        "    </tr>\n",
        "    <tr>\n",
        "      <th>22</th>\n",
        "      <td>Kydan</td>\n",
        "      <td>M</td>\n",
        "      <td>5</td>\n",
        "    </tr>\n",
        "    <tr>\n",
        "      <th>23</th>\n",
        "      <td>Kyhir</td>\n",
        "      <td>M</td>\n",
        "      <td>5</td>\n",
        "    </tr>\n",
        "    <tr>\n",
        "      <th>24</th>\n",
        "      <td>Landry</td>\n",
        "      <td>M</td>\n",
        "      <td>272</td>\n",
        "    </tr>\n",
        "    <tr>\n",
        "      <th>25</th>\n",
        "      <td>Toryn</td>\n",
        "      <td>F</td>\n",
        "      <td>17</td>\n",
        "    </tr>\n",
        "    <tr>\n",
        "      <th>26</th>\n",
        "      <td>Tressa</td>\n",
        "      <td>F</td>\n",
        "      <td>17</td>\n",
        "    </tr>\n",
        "    <tr>\n",
        "      <th>27</th>\n",
        "      <td>Trinidad</td>\n",
        "      <td>F</td>\n",
        "      <td>17</td>\n",
        "    </tr>\n",
        "    <tr>\n",
        "      <th>28</th>\n",
        "      <td>Trulee</td>\n",
        "      <td>F</td>\n",
        "      <td>17</td>\n",
        "    </tr>\n",
        "    <tr>\n",
        "      <th>29</th>\n",
        "      <td>Tucker</td>\n",
        "      <td>F</td>\n",
        "      <td>17</td>\n",
        "    </tr>\n",
        "    <tr>\n",
        "      <th>30</th>\n",
        "      <td>Tuleen</td>\n",
        "      <td>F</td>\n",
        "      <td>17</td>\n",
        "    </tr>\n",
        "    <tr>\n",
        "      <th>31</th>\n",
        "      <td>Tyliah</td>\n",
        "      <td>F</td>\n",
        "      <td>17</td>\n",
        "    </tr>\n",
        "    <tr>\n",
        "      <th>32</th>\n",
        "      <td>Vivi</td>\n",
        "      <td>F</td>\n",
        "      <td>17</td>\n",
        "    </tr>\n",
        "    <tr>\n",
        "      <th>33</th>\n",
        "      <td>Ximenna</td>\n",
        "      <td>F</td>\n",
        "      <td>17</td>\n",
        "    </tr>\n",
        "    <tr>\n",
        "      <th>34</th>\n",
        "      <td>Yanna</td>\n",
        "      <td>F</td>\n",
        "      <td>17</td>\n",
        "    </tr>\n",
        "    <tr>\n",
        "      <th>35</th>\n",
        "      <td>Yarielis</td>\n",
        "      <td>F</td>\n",
        "      <td>17</td>\n",
        "    </tr>\n",
        "    <tr>\n",
        "      <th>36</th>\n",
        "      <td>Yazlin</td>\n",
        "      <td>F</td>\n",
        "      <td>1</td>\n",
        "    </tr>\n",
        "    <tr>\n",
        "      <th>37</th>\n",
        "      <td>Yona</td>\n",
        "      <td>F</td>\n",
        "      <td>17</td>\n",
        "    </tr>\n",
        "    <tr>\n",
        "      <th>38</th>\n",
        "      <td>Yona</td>\n",
        "      <td>M</td>\n",
        "      <td>17</td>\n",
        "    </tr>\n",
        "  </tbody>\n",
        "</table>\n",
        "</div>"
       ],
       "metadata": {},
       "output_type": "pyout",
       "prompt_number": 6,
       "text": [
        "           Name Gender  Num_of_births\n",
        "0           Adi      F             28\n",
        "1           Adi      M             28\n",
        "2           Dru      F             26\n",
        "3           Dru      M             26\n",
        "4     Giancarlo      M            272\n",
        "5         Kosei      M              5\n",
        "6   Kostantinos      M              5\n",
        "7        Kostas      M              5\n",
        "8     Kourtland      M              5\n",
        "9         Kraig      M              5\n",
        "10      Krimson      M              5\n",
        "11      Krisean      M              5\n",
        "12      Krishal      M              5\n",
        "13      Krishil      M              5\n",
        "14        Kriss      M              5\n",
        "15  Krisstopher      M              5\n",
        "16     Kristain      M              5\n",
        "17     Kriyansh      M              5\n",
        "18       Krrish      M              5\n",
        "19       Kruize      M              5\n",
        "20           Ku      M              5\n",
        "21      Kwamane      M              5\n",
        "22        Kydan      M              5\n",
        "23        Kyhir      M              5\n",
        "24       Landry      M            272\n",
        "25        Toryn      F             17\n",
        "26       Tressa      F             17\n",
        "27     Trinidad      F             17\n",
        "28       Trulee      F             17\n",
        "29       Tucker      F             17\n",
        "30       Tuleen      F             17\n",
        "31       Tyliah      F             17\n",
        "32         Vivi      F             17\n",
        "33      Ximenna      F             17\n",
        "34        Yanna      F             17\n",
        "35     Yarielis      F             17\n",
        "36       Yazlin      F              1\n",
        "37         Yona      F             17\n",
        "38         Yona      M             17"
       ]
      }
     ],
     "prompt_number": 6
    },
    {
     "cell_type": "markdown",
     "metadata": {},
     "source": [
      "#Practising numpy and pandas"
     ]
    },
    {
     "cell_type": "code",
     "collapsed": false,
     "input": [
      "Date,Open,High,Low,Close,Volume,Adj Close\n",
      "\n",
      "2011-10-19,27.37,27.47,27.01,27.13,42880000,27.13\n",
      "\n",
      "2011-10-18,26.94,27.40,26.80,27.31,52487900,27.31\n",
      "\n",
      "2011-10-17,27.11,27.42,26.85,26.98,39433400,26.98\n",
      "\n",
      "2011-10-14,27.31,27.50,27.02,27.27,50947700,27.27"
     ],
     "language": "python",
     "metadata": {},
     "outputs": []
    },
    {
     "cell_type": "code",
     "collapsed": false,
     "input": [
      "import pandas as pd\n",
      "from pandas import DataFrame\n",
      "arr = [[1,2],[3,4],[5,6]]\n",
      "df = DataFrame(arr, columns=('c1', 'c2'))\n",
      "print df['c1'],df['c2']"
     ],
     "language": "python",
     "metadata": {},
     "outputs": [
      {
       "output_type": "stream",
       "stream": "stdout",
       "text": [
        "0    1\n",
        "1    3\n",
        "2    5\n",
        "Name: c1, dtype: int64 0    2\n",
        "1    4\n",
        "2    6\n",
        "Name: c2, dtype: int64\n"
       ]
      }
     ],
     "prompt_number": 36
    },
    {
     "cell_type": "code",
     "collapsed": false,
     "input": [
      "for index, row in df.iterrows(): \n",
      "    print row['c1'],row['c2']"
     ],
     "language": "python",
     "metadata": {},
     "outputs": [
      {
       "output_type": "stream",
       "stream": "stdout",
       "text": [
        "1 2\n",
        "3 4\n",
        "5 6\n"
       ]
      }
     ],
     "prompt_number": 34
    },
    {
     "cell_type": "code",
     "collapsed": false,
     "input": [
      "d=[{'points': 50, 'time': '5:00', 'year': 2010}, \n",
      "{'points': 25, 'time': '6:00', 'month': \"february\"}, \n",
      "{'points':90, 'time': '9:00', 'month': 'january'}, \n",
      "{'points_h1':20, 'month': 'june'}]\n",
      "df = pd.DataFrame(d)\n",
      "df"
     ],
     "language": "python",
     "metadata": {},
     "outputs": [
      {
       "html": [
        "<div style=\"max-width:1500px;overflow:auto;\">\n",
        "<table border=\"1\" class=\"dataframe\">\n",
        "  <thead>\n",
        "    <tr style=\"text-align: right;\">\n",
        "      <th></th>\n",
        "      <th>month</th>\n",
        "      <th>points</th>\n",
        "      <th>points_h1</th>\n",
        "      <th>time</th>\n",
        "      <th>year</th>\n",
        "    </tr>\n",
        "  </thead>\n",
        "  <tbody>\n",
        "    <tr>\n",
        "      <th>0</th>\n",
        "      <td>NaN</td>\n",
        "      <td>50.0</td>\n",
        "      <td>NaN</td>\n",
        "      <td>5:00</td>\n",
        "      <td>2010.0</td>\n",
        "    </tr>\n",
        "    <tr>\n",
        "      <th>1</th>\n",
        "      <td>february</td>\n",
        "      <td>25.0</td>\n",
        "      <td>NaN</td>\n",
        "      <td>6:00</td>\n",
        "      <td>NaN</td>\n",
        "    </tr>\n",
        "    <tr>\n",
        "      <th>2</th>\n",
        "      <td>january</td>\n",
        "      <td>90.0</td>\n",
        "      <td>NaN</td>\n",
        "      <td>9:00</td>\n",
        "      <td>NaN</td>\n",
        "    </tr>\n",
        "    <tr>\n",
        "      <th>3</th>\n",
        "      <td>june</td>\n",
        "      <td>NaN</td>\n",
        "      <td>20.0</td>\n",
        "      <td>NaN</td>\n",
        "      <td>NaN</td>\n",
        "    </tr>\n",
        "  </tbody>\n",
        "</table>\n",
        "</div>"
       ],
       "metadata": {},
       "output_type": "pyout",
       "prompt_number": 40,
       "text": [
        "      month  points  points_h1  time    year\n",
        "0       NaN    50.0        NaN  5:00  2010.0\n",
        "1  february    25.0        NaN  6:00     NaN\n",
        "2   january    90.0        NaN  9:00     NaN\n",
        "3      june     NaN       20.0   NaN     NaN"
       ]
      }
     ],
     "prompt_number": 40
    },
    {
     "cell_type": "code",
     "collapsed": false,
     "input": [
      "df1 = df[['month','points']]\n",
      "df1"
     ],
     "language": "python",
     "metadata": {},
     "outputs": [
      {
       "html": [
        "<div style=\"max-width:1500px;overflow:auto;\">\n",
        "<table border=\"1\" class=\"dataframe\">\n",
        "  <thead>\n",
        "    <tr style=\"text-align: right;\">\n",
        "      <th></th>\n",
        "      <th>month</th>\n",
        "      <th>points</th>\n",
        "    </tr>\n",
        "  </thead>\n",
        "  <tbody>\n",
        "    <tr>\n",
        "      <th>0</th>\n",
        "      <td>NaN</td>\n",
        "      <td>50.0</td>\n",
        "    </tr>\n",
        "    <tr>\n",
        "      <th>1</th>\n",
        "      <td>february</td>\n",
        "      <td>25.0</td>\n",
        "    </tr>\n",
        "    <tr>\n",
        "      <th>2</th>\n",
        "      <td>january</td>\n",
        "      <td>90.0</td>\n",
        "    </tr>\n",
        "    <tr>\n",
        "      <th>3</th>\n",
        "      <td>june</td>\n",
        "      <td>NaN</td>\n",
        "    </tr>\n",
        "  </tbody>\n",
        "</table>\n",
        "</div>"
       ],
       "metadata": {},
       "output_type": "pyout",
       "prompt_number": 42,
       "text": [
        "      month  points\n",
        "0       NaN    50.0\n",
        "1  february    25.0\n",
        "2   january    90.0\n",
        "3      june     NaN"
       ]
      }
     ],
     "prompt_number": 42
    },
    {
     "cell_type": "code",
     "collapsed": false,
     "input": [
      "pd.DataFrame(np.arange(8).reshape(4,-1))"
     ],
     "language": "python",
     "metadata": {},
     "outputs": [
      {
       "html": [
        "<div style=\"max-width:1500px;overflow:auto;\">\n",
        "<table border=\"1\" class=\"dataframe\">\n",
        "  <thead>\n",
        "    <tr style=\"text-align: right;\">\n",
        "      <th></th>\n",
        "      <th>0</th>\n",
        "      <th>1</th>\n",
        "    </tr>\n",
        "  </thead>\n",
        "  <tbody>\n",
        "    <tr>\n",
        "      <th>0</th>\n",
        "      <td>0</td>\n",
        "      <td>1</td>\n",
        "    </tr>\n",
        "    <tr>\n",
        "      <th>1</th>\n",
        "      <td>2</td>\n",
        "      <td>3</td>\n",
        "    </tr>\n",
        "    <tr>\n",
        "      <th>2</th>\n",
        "      <td>4</td>\n",
        "      <td>5</td>\n",
        "    </tr>\n",
        "    <tr>\n",
        "      <th>3</th>\n",
        "      <td>6</td>\n",
        "      <td>7</td>\n",
        "    </tr>\n",
        "  </tbody>\n",
        "</table>\n",
        "</div>"
       ],
       "metadata": {},
       "output_type": "pyout",
       "prompt_number": 71,
       "text": [
        "   0  1\n",
        "0  0  1\n",
        "1  2  3\n",
        "2  4  5\n",
        "3  6  7"
       ]
      }
     ],
     "prompt_number": 71
    },
    {
     "cell_type": "code",
     "collapsed": false,
     "input": [],
     "language": "python",
     "metadata": {},
     "outputs": []
    }
   ],
   "metadata": {}
  }
 ]
}