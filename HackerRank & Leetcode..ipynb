{
 "metadata": {
  "name": "",
  "signature": "sha256:5b48c158320f328f50c1106338df79f950f2db40bf75e680f16997c2a278a73b"
 },
 "nbformat": 3,
 "nbformat_minor": 0,
 "worksheets": [
  {
   "cells": [
    {
     "cell_type": "markdown",
     "metadata": {},
     "source": [
      "###WARMUP QUESTIONS"
     ]
    },
    {
     "cell_type": "code",
     "collapsed": false,
     "input": [
      "# Python program for implementation of atoi\n",
      " \n",
      "def myAtoi(string):\n",
      "    res = 0\n",
      "    for i in xrange(len(string)):\n",
      "        print res\n",
      "        res = res*10 + (ord(string[i]) - ord('0'))\n",
      "    return res\n",
      " \n",
      "\n",
      "string = \"89789\"\n",
      "print myAtoi(string)"
     ],
     "language": "python",
     "metadata": {},
     "outputs": [
      {
       "output_type": "stream",
       "stream": "stdout",
       "text": [
        "0\n",
        "8\n",
        "89\n",
        "897\n",
        "8978\n",
        "89789\n"
       ]
      }
     ],
     "prompt_number": 650
    },
    {
     "cell_type": "code",
     "collapsed": false,
     "input": [
      "#default dictionary\n",
      "l = [('red',1),('bl',2),('red',3)]\n",
      "d= defaultdict(list)\n",
      "for k,v in l:\n",
      "    d[k].append(v)\n",
      "print d\n",
      "\n",
      "#same implementation using normal dictionary\n",
      "di={}\n",
      "for k,v in l:\n",
      "    di.setdefault(k,[])\n",
      "    di[k].append(v)\n",
      "print di"
     ],
     "language": "python",
     "metadata": {},
     "outputs": [
      {
       "output_type": "stream",
       "stream": "stdout",
       "text": [
        "defaultdict(<type 'list'>, {'bl': [2], 'red': [1, 3]})\n",
        "{'bl': [2], 'red': [1, 3]}\n"
       ]
      }
     ],
     "prompt_number": 649
    },
    {
     "cell_type": "code",
     "collapsed": false,
     "input": [
      "#reverse string in place: in python strings are immutable.\n",
      "a = 'women'\n",
      "li = []\n",
      "li.extend(a)\n",
      "print li\n",
      "size = len(li)\n",
      "for i in range(0, size/2):\n",
      "    print i,size-1-i\n",
      "    li[i], li[size-1-i] = li[size-1-i], li[i]\n",
      "print li"
     ],
     "language": "python",
     "metadata": {},
     "outputs": [
      {
       "output_type": "stream",
       "stream": "stdout",
       "text": [
        "['w', 'o', 'm', 'e', 'n']\n",
        "0 4\n",
        "1 3\n",
        "['n', 'e', 'm', 'o', 'w']\n"
       ]
      }
     ],
     "prompt_number": 583
    },
    {
     "cell_type": "code",
     "collapsed": false,
     "input": [
      "#prime or not\n",
      "def is_prime(x):\n",
      "    if x > 1:\n",
      "        n = x / 2\n",
      "        for i in range(2, n + 1):\n",
      "            if x % i == 0:\n",
      "                return False\n",
      "        return True\n",
      "    else:\n",
      "        return False\n",
      "is_prime(7)"
     ],
     "language": "python",
     "metadata": {},
     "outputs": [
      {
       "metadata": {},
       "output_type": "pyout",
       "prompt_number": 574,
       "text": [
        "True"
       ]
      }
     ],
     "prompt_number": 574
    },
    {
     "cell_type": "code",
     "collapsed": false,
     "input": [
      "#count primes\n",
      "def countPrimes(n):\n",
      "    count =0\n",
      "    for i in range(2,n):\n",
      "        if is_prime(i):\n",
      "            count+=1\n",
      "    return count\n",
      "    \n",
      "def is_prime(x):\n",
      "    if x > 1:\n",
      "        n = x / 2\n",
      "        for i in range(2, n + 1):\n",
      "            if x % i == 0:\n",
      "                return False\n",
      "        return True\n",
      "    else:\n",
      "        return False        \n",
      "\n",
      "countPrimes(10)"
     ],
     "language": "python",
     "metadata": {},
     "outputs": [
      {
       "metadata": {},
       "output_type": "pyout",
       "prompt_number": 515,
       "text": [
        "4"
       ]
      }
     ],
     "prompt_number": 515
    },
    {
     "cell_type": "code",
     "collapsed": false,
     "input": [
      "#fibonacci series\n",
      "def fib(n):\n",
      " a,b = 1,1\n",
      " for i in range(n-1):\n",
      "  a,b = b,a+b\n",
      "  print a\n",
      "\n",
      "fib(5)"
     ],
     "language": "python",
     "metadata": {},
     "outputs": [
      {
       "output_type": "stream",
       "stream": "stdout",
       "text": [
        "1\n",
        "2\n",
        "3\n",
        "5\n"
       ]
      }
     ],
     "prompt_number": 582
    },
    {
     "cell_type": "markdown",
     "metadata": {},
     "source": [
      "###STRINGS"
     ]
    },
    {
     "cell_type": "code",
     "collapsed": false,
     "input": [
      "#Diagonal Difference.\n",
      "import sys\n",
      "\n",
      "n = int(raw_input().strip())\n",
      "a = []\n",
      "for a_i in xrange(n):\n",
      "   a_temp = map(int,raw_input().strip().split(' '))\n",
      "   a.append(a_temp)\n",
      "\n",
      "d1 = 0\n",
      "d2 = 0\n",
      "l = len(a[0])\n",
      "for i in xrange(0,len(a)):\n",
      "    d1 += a[i][i]\n",
      "for i in range(l-1,-1,-1):\n",
      "    d2 += a[l-1-i][i]\n",
      "print abs(d1-d2)    "
     ],
     "language": "python",
     "metadata": {},
     "outputs": [
      {
       "name": "stdout",
       "output_type": "stream",
       "stream": "stdout",
       "text": [
        "3\n"
       ]
      },
      {
       "name": "stdout",
       "output_type": "stream",
       "stream": "stdout",
       "text": [
        "1 4 5\n"
       ]
      },
      {
       "name": "stdout",
       "output_type": "stream",
       "stream": "stdout",
       "text": [
        "2 6 7\n"
       ]
      },
      {
       "name": "stdout",
       "output_type": "stream",
       "stream": "stdout",
       "text": [
        "3 8 9\n"
       ]
      },
      {
       "output_type": "stream",
       "stream": "stdout",
       "text": [
        "2\n"
       ]
      }
     ],
     "prompt_number": 588
    },
    {
     "cell_type": "code",
     "collapsed": false,
     "input": [
      "#Staircase problem\n",
      "import sys\n",
      "def staircase(n):\n",
      "    for i in range(1,n+1):\n",
      "        print ((n-i)* ' ')+(i*'#')     \n",
      "staircase(3)"
     ],
     "language": "python",
     "metadata": {},
     "outputs": [
      {
       "output_type": "stream",
       "stream": "stdout",
       "text": [
        "  #\n",
        " ##\n",
        "###\n"
       ]
      }
     ],
     "prompt_number": 590
    },
    {
     "cell_type": "code",
     "collapsed": false,
     "input": [
      "#Triangle problem \n",
      "def traingle(n):\n",
      "    for i in range(1,n+1): \n",
      "        print (10**i - 1)/(10-1) * i , ((10**i - 1)/(10-1))**2 #multiple of 11*i\n",
      "traingle(5)"
     ],
     "language": "python",
     "metadata": {},
     "outputs": [
      {
       "output_type": "stream",
       "stream": "stdout",
       "text": [
        "1 1\n",
        "22 121\n",
        "333 12321\n",
        "4444 1234321\n",
        "55555 123454321\n"
       ]
      }
     ],
     "prompt_number": 594
    },
    {
     "cell_type": "code",
     "collapsed": false,
     "input": [
      "#pascals traingle\n",
      "from operator import add\n",
      "def pascals(numRows):\n",
      "    answer = [[1]]\n",
      "    for i in range(1, numRows):\n",
      "        new = map(add, (answer[i-1] + [0]), ([0] + answer[i-1]))\n",
      "        print (add(answer[i-1] + [0], [0] + answer[i-1]))\n",
      "        answer.append(new)\n",
      "    return answer\n",
      "        \n",
      "\n",
      "pascals(6)        "
     ],
     "language": "python",
     "metadata": {},
     "outputs": [
      {
       "output_type": "stream",
       "stream": "stdout",
       "text": [
        "[1, 0, 0, 1]\n",
        "[1, 1, 0, 0, 1, 1]\n",
        "[1, 2, 1, 0, 0, 1, 2, 1]\n",
        "[1, 3, 3, 1, 0, 0, 1, 3, 3, 1]\n",
        "[1, 4, 6, 4, 1, 0, 0, 1, 4, 6, 4, 1]\n"
       ]
      },
      {
       "metadata": {},
       "output_type": "pyout",
       "prompt_number": 302,
       "text": [
        "[[1], [1, 1], [1, 2, 1], [1, 3, 3, 1], [1, 4, 6, 4, 1], [1, 5, 10, 10, 5, 1]]"
       ]
      }
     ],
     "prompt_number": 302
    },
    {
     "cell_type": "code",
     "collapsed": false,
     "input": [
      "z=lambda x,y:x**2+y**2\n",
      "map(z,[1,2,3],[4,5,6])"
     ],
     "language": "python",
     "metadata": {},
     "outputs": [
      {
       "metadata": {},
       "output_type": "pyout",
       "prompt_number": 303,
       "text": [
        "[17, 29, 45]"
       ]
      }
     ],
     "prompt_number": 303
    },
    {
     "cell_type": "code",
     "collapsed": false,
     "input": [
      "#Pangram or not- have all alphabets from a-z\n",
      "import sys\n",
      "\n",
      "s = \"We promptly judged antique ivory buckles for the next prize\" \n",
      "\n",
      "alphabet = \"abcdefghijklmnopqrstuvwxyz\"\n",
      "result = not (set(alphabet) - set(s.lower()))\n",
      "if result is True:\n",
      "    print 'pangram'\n",
      "else:\n",
      "    print 'not pangram'"
     ],
     "language": "python",
     "metadata": {},
     "outputs": [
      {
       "output_type": "stream",
       "stream": "stdout",
       "text": [
        "pangram\n"
       ]
      }
     ],
     "prompt_number": 598
    },
    {
     "cell_type": "code",
     "collapsed": false,
     "input": [
      "#Two strings A and B, In a list, group them pairwise\n",
      "import sys\n",
      "\n",
      "T = int(raw_input().strip())\n",
      "list = []\n",
      "for i in sys.stdin:\n",
      "    list.append(i.rstrip())\n",
      "for a,b in zip(list[0::2], list[1::2]):\n",
      "    if set(a) & set(b) != set()\n",
      "        print 'YES'\n",
      "    else:\n",
      "        print 'NO'\n"
     ],
     "language": "python",
     "metadata": {},
     "outputs": []
    },
    {
     "cell_type": "code",
     "collapsed": false,
     "input": [
      "#common between two sets.\n",
      "a = 'bd'\n",
      "b = 'ef'\n",
      "print set(a),set(b) \n",
      "set(a) & set(b)"
     ],
     "language": "python",
     "metadata": {},
     "outputs": [
      {
       "output_type": "stream",
       "stream": "stdout",
       "text": [
        "set(['b', 'd']) set(['e', 'f'])\n"
       ]
      },
      {
       "metadata": {},
       "output_type": "pyout",
       "prompt_number": 12,
       "text": [
        "set()"
       ]
      }
     ],
     "prompt_number": 12
    },
    {
     "cell_type": "code",
     "collapsed": false,
     "input": [
      "#Delete letters in two words to make anagram\n",
      "\n",
      "a = raw_input().strip()\n",
      "b = raw_input().strip()\n",
      "\n",
      "deletions = 0;\n",
      "\n",
      "for letter in \"abcdefghijklmnopqrstuvwxyz\":\n",
      "    deletions += abs(a.count(letter) - b.count(letter));\n",
      "print(deletions);"
     ],
     "language": "python",
     "metadata": {},
     "outputs": [
      {
       "name": "stdout",
       "output_type": "stream",
       "stream": "stdout",
       "text": [
        "aaa\n"
       ]
      },
      {
       "name": "stdout",
       "output_type": "stream",
       "stream": "stdout",
       "text": [
        "bbb\n"
       ]
      },
      {
       "output_type": "stream",
       "stream": "stdout",
       "text": [
        "6\n"
       ]
      }
     ],
     "prompt_number": 1
    },
    {
     "cell_type": "code",
     "collapsed": false,
     "input": [
      "#splitting the string into two equal halves.\n",
      "a = ['sder']\n",
      "a[0][:len(a[0])/2], a[0][len(a[0])/2:]"
     ],
     "language": "python",
     "metadata": {},
     "outputs": [
      {
       "metadata": {},
       "output_type": "pyout",
       "prompt_number": 652,
       "text": [
        "('sd', 'er')"
       ]
      }
     ],
     "prompt_number": 652
    },
    {
     "cell_type": "code",
     "collapsed": false,
     "input": [
      "import sys\n",
      "T = int(raw_input().strip())\n",
      "\n",
      "list = []\n",
      "deletions = 0\n",
      "for i in sys.stdin:\n",
      "    list.append(i.rstrip())\n",
      "    \n",
      "for i in range(0,len(list)):\n",
      "    if len(list[i])%2 != 0:\n",
      "        print -1\n",
      "    else:\n",
      "        if set(list[i][:len(list[i])/2])== set(list[i][len(list[i])/2:]): # This splits the string into exactly 2 halves.\n",
      "            print 0\n",
      "        else:\n",
      "            deletions += abs( list[i][:len(list[i])/2] - list[i][len(list[i])/2:])\n",
      "            print(deletions)\n",
      "                \n",
      "        "
     ],
     "language": "python",
     "metadata": {},
     "outputs": []
    },
    {
     "cell_type": "code",
     "collapsed": false,
     "input": [
      "#Funny and not funny\n",
      "\n",
      "import sys\n",
      "list=[]\n",
      "for i in sys.stdin:\n",
      "    list.append(i.rstrip())\n",
      "\n",
      "for s in list:    \n",
      "    for i in range(1,len(s)):\n",
      "        if abs(ord(s[i]) - ord(s[i-1])) == abs(ord(s[::-1][i]) - ord(s[::-1][i-1])):\n",
      "            b = True\n",
      "        else:\n",
      "            b = False\n",
      "            break\n",
      "    if b is True:\n",
      "        print \"Funny\"\n",
      "    else:\n",
      "        print \"Not Funny\"\n",
      "          "
     ],
     "language": "python",
     "metadata": {},
     "outputs": [],
     "prompt_number": 11
    },
    {
     "cell_type": "code",
     "collapsed": false,
     "input": [
      "import sys\n",
      "T = int(raw_input().strip())\n",
      "list = []\n",
      "\n",
      "for i in sys.stdin:\n",
      "    list.append(i.rstrip())\n",
      "    \n",
      "    \n",
      "for s in list:\n",
      "    deletions = 0\n",
      "    for i in range(0,len(s)-1):\n",
      "        if s[i]==s[i+1]:\n",
      "            deletions +=1\n",
      "        i +=1\n",
      "    print deletions"
     ],
     "language": "python",
     "metadata": {},
     "outputs": [
      {
       "name": "stdout",
       "output_type": "stream",
       "stream": "stdout",
       "text": [
        "2\n"
       ]
      }
     ],
     "prompt_number": 2
    },
    {
     "cell_type": "code",
     "collapsed": false,
     "input": [
      "#gem elements:\n",
      "def count_gem_elements(rocks):\n",
      "    element_sets = [set(rock) for rock in rocks]\n",
      "    gem_elements = set.intersection(*element_sets)\n",
      "    return len(gem_elements)\n",
      "\n",
      "\n",
      "if __name__ == '__main__':\n",
      "    rock_count = int(raw_input().strip())\n",
      "    rocks = (raw_input() for _ in range(rock_count))\n",
      "    print(count_gem_elements(rocks))\n",
      "         "
     ],
     "language": "python",
     "metadata": {},
     "outputs": [
      {
       "name": "stdout",
       "output_type": "stream",
       "stream": "stdout",
       "text": [
        "3\n"
       ]
      },
      {
       "name": "stdout",
       "output_type": "stream",
       "stream": "stdout",
       "text": [
        "abcdef\n"
       ]
      },
      {
       "name": "stdout",
       "output_type": "stream",
       "stream": "stdout",
       "text": [
        "absol\n"
       ]
      },
      {
       "name": "stdout",
       "output_type": "stream",
       "stream": "stdout",
       "text": [
        "abwe\n"
       ]
      },
      {
       "output_type": "stream",
       "stream": "stdout",
       "text": [
        "2\n"
       ]
      }
     ],
     "prompt_number": 4
    },
    {
     "cell_type": "code",
     "collapsed": false,
     "input": [
      "#Determines operations needed to convert word -> palindrome\n",
      "from itertools import islice\n",
      "\n",
      "def count_operations(word):\n",
      "   \n",
      "    difference = lambda x, y: abs(ord(x) - ord(y))\n",
      "    median = len(word) // 2\n",
      "    pairs = zip(word, reversed(word))\n",
      "    print pairs\n",
      "    for x, y in islice(pairs, median):\n",
      "        print x,y\n",
      "\n",
      "count_operations('abcd')    "
     ],
     "language": "python",
     "metadata": {},
     "outputs": [
      {
       "output_type": "stream",
       "stream": "stdout",
       "text": [
        "[('a', 'd'), ('b', 'c'), ('c', 'b'), ('d', 'a')]\n",
        "a d\n",
        "b c\n"
       ]
      }
     ],
     "prompt_number": 605
    },
    {
     "cell_type": "code",
     "collapsed": false,
     "input": [
      "#Anagram\n",
      "\n",
      "n = input()\n",
      "for _ in xrange(n):\n",
      "    s = raw_input()\n",
      "    if len(s)%2:\n",
      "        print -1\n",
      "        continue\n",
      "    res = 0\n",
      "    for i in xrange(ord('a'), ord('z')+1):\n",
      "        res += min(s[:len(s)/2].count(chr(i)), s[len(s)/2:].count(chr(i)))\n",
      "        print '*',s[:len(s)/2].count(chr(i))\n",
      "    print len(s)/2-res"
     ],
     "language": "python",
     "metadata": {},
     "outputs": [
      {
       "name": "stdout",
       "output_type": "stream",
       "stream": "stdout",
       "text": [
        "1\n"
       ]
      },
      {
       "name": "stdout",
       "output_type": "stream",
       "stream": "stdout",
       "text": [
        "adbad\n"
       ]
      },
      {
       "output_type": "stream",
       "stream": "stdout",
       "text": [
        "-1\n"
       ]
      }
     ],
     "prompt_number": 4
    },
    {
     "cell_type": "code",
     "collapsed": false,
     "input": [
      "#palindrome index\n",
      "s = 'abb'\n",
      "print len(s)\n",
      "s[1:]"
     ],
     "language": "python",
     "metadata": {},
     "outputs": [
      {
       "output_type": "stream",
       "stream": "stdout",
       "text": [
        "3\n"
       ]
      },
      {
       "metadata": {},
       "output_type": "pyout",
       "prompt_number": 47,
       "text": [
        "'bb'"
       ]
      }
     ],
     "prompt_number": 47
    },
    {
     "cell_type": "code",
     "collapsed": false,
     "input": [
      "#palindrome pairs\n",
      "words = [\"abcd\", \"dcba\", \"lls\", \"s\", \"sssll\"]\n",
      "def palindromePairs(words):\n",
      "    ans=[]\n",
      "    for i in range(len(words)):\n",
      "        for j in range(len(words)):\n",
      "            if i!=j:\n",
      "                t1 = words[i]+words[j]\n",
      "                if t1==t1[::-1]:\n",
      "                    ans.append([i,j])\n",
      "                \n",
      "    print ans\n",
      "                \n",
      "    \n",
      "palindromePairs(words)"
     ],
     "language": "python",
     "metadata": {},
     "outputs": [
      {
       "output_type": "stream",
       "stream": "stdout",
       "text": [
        "[[0, 1], [1, 0], [2, 4], [3, 2]]\n"
       ]
      }
     ],
     "prompt_number": 580
    },
    {
     "cell_type": "markdown",
     "metadata": {},
     "source": [
      "## REGEX > APPLICATIONS"
     ]
    },
    {
     "cell_type": "code",
     "collapsed": false,
     "input": [
      "# Building a Smart IDE: Identifying comments\n",
      "import re\n",
      "import sys\n",
      "fulltext = sys.stdin.read()\n",
      "\n",
      "\n",
      "pattern = '(//.*|/\\*[\\d\\D]*?\\*/)'\n",
      "match = re.findall(pattern, fulltext)\n",
      "for i in match:\n",
      "    j = i.split(\"\\n\")\n",
      "    for k in j:\n",
      "        print k.lstrip()"
     ],
     "language": "python",
     "metadata": {},
     "outputs": []
    },
    {
     "cell_type": "code",
     "collapsed": false,
     "input": [
      "#utopian tree\n",
      "\n",
      "n = int(raw_input())\n",
      "for _ in range(n):\n",
      "    cycles = int(raw_input())\n",
      "    k = cycles / 2\n",
      "    m = 1 if cycles % 2 == 0 else 2\n",
      "    print 2**(k+m) - m"
     ],
     "language": "python",
     "metadata": {},
     "outputs": []
    },
    {
     "cell_type": "code",
     "collapsed": false,
     "input": [
      "#maxsubarray\n",
      "def maxSubArray(nums):\n",
      "    for i in xrange(1,len(nums)):\n",
      "        nums[i]=max(nums[i], nums[i]+nums[i-1])\n",
      "    return max(nums)\n",
      "    \n",
      "nums = [1,2,3,-5,6,-7,0]\n",
      "maxSubArray(nums)"
     ],
     "language": "python",
     "metadata": {},
     "outputs": [
      {
       "metadata": {},
       "output_type": "pyout",
       "prompt_number": 654,
       "text": [
        "7"
       ]
      }
     ],
     "prompt_number": 654
    },
    {
     "cell_type": "code",
     "collapsed": false,
     "input": [
      "#anagrams\n",
      "from collections import Counter\n",
      "s= 'dsseef'\n",
      "count = 0\n",
      "l = len(s)\n",
      "s1, s2 = Counter(s[:l//2]), Counter(s[l//2:])\n",
      "print s1,s2\n",
      "for char in s2:\n",
      "    current = s2[char] - s1.get(char,0)\n",
      "    print current, s2[char], s1.get(char,0)\n",
      "    if current > 0:\n",
      "        count += current\n",
      "print(count)"
     ],
     "language": "python",
     "metadata": {},
     "outputs": [
      {
       "output_type": "stream",
       "stream": "stdout",
       "text": [
        "Counter({'s': 2, 'd': 1}) Counter({'e': 2, 'f': 1})\n",
        "2 2 0\n",
        "1 1 0\n",
        "3\n"
       ]
      }
     ],
     "prompt_number": 52
    },
    {
     "cell_type": "code",
     "collapsed": false,
     "input": [
      "#reverse vowels\n",
      "import re\n",
      "def reverseVowels(s):\n",
      "    vowels = re.findall(r'[aeiou]', s)\n",
      "    con = re.findall(r'[^aeiou]', s)\n",
      "    fn = lambda m: vowels.pop()\n",
      "    return re.sub(r'[aeiou]', fn, s)\n",
      "    \n",
      "reverseVowels('daeious')              "
     ],
     "language": "python",
     "metadata": {},
     "outputs": [
      {
       "metadata": {},
       "output_type": "pyout",
       "prompt_number": 657,
       "text": [
        "'duoieas'"
       ]
      }
     ],
     "prompt_number": 657
    },
    {
     "cell_type": "markdown",
     "metadata": {},
     "source": [
      "##Algorithms > Implementation"
     ]
    },
    {
     "cell_type": "code",
     "collapsed": false,
     "input": [
      "#Find Digits.\n",
      "\n",
      "import sys\n",
      "\n",
      "t = int(raw_input().strip())\n",
      "for a0 in xrange(t):\n",
      "    n = int(raw_input().strip())\n",
      "    count = 0\n",
      "    for i in range(0,len(str(n))):\n",
      "        if str(n)[i] == '0':\n",
      "            continue\n",
      "        elif n % (int(str(n)[i])) == 0:\n",
      "            count +=1\n",
      "    print count\n",
      "                "
     ],
     "language": "python",
     "metadata": {},
     "outputs": [
      {
       "ename": "KeyboardInterrupt",
       "evalue": "",
       "output_type": "pyerr",
       "traceback": [
        "\u001b[0;31m---------------------------------------------------------------------------\u001b[0m\n\u001b[0;31mKeyboardInterrupt\u001b[0m                         Traceback (most recent call last)",
        "\u001b[0;32m<ipython-input-658-712983ffdcf6>\u001b[0m in \u001b[0;36m<module>\u001b[0;34m()\u001b[0m\n\u001b[1;32m      3\u001b[0m \u001b[0;32mimport\u001b[0m \u001b[0msys\u001b[0m\u001b[0;34m\u001b[0m\u001b[0m\n\u001b[1;32m      4\u001b[0m \u001b[0;34m\u001b[0m\u001b[0m\n\u001b[0;32m----> 5\u001b[0;31m \u001b[0mt\u001b[0m \u001b[0;34m=\u001b[0m \u001b[0mint\u001b[0m\u001b[0;34m(\u001b[0m\u001b[0mraw_input\u001b[0m\u001b[0;34m(\u001b[0m\u001b[0;34m)\u001b[0m\u001b[0;34m.\u001b[0m\u001b[0mstrip\u001b[0m\u001b[0;34m(\u001b[0m\u001b[0;34m)\u001b[0m\u001b[0;34m)\u001b[0m\u001b[0;34m\u001b[0m\u001b[0m\n\u001b[0m\u001b[1;32m      6\u001b[0m \u001b[0;32mfor\u001b[0m \u001b[0ma0\u001b[0m \u001b[0;32min\u001b[0m \u001b[0mxrange\u001b[0m\u001b[0;34m(\u001b[0m\u001b[0mt\u001b[0m\u001b[0;34m)\u001b[0m\u001b[0;34m:\u001b[0m\u001b[0;34m\u001b[0m\u001b[0m\n\u001b[1;32m      7\u001b[0m     \u001b[0mn\u001b[0m \u001b[0;34m=\u001b[0m \u001b[0mint\u001b[0m\u001b[0;34m(\u001b[0m\u001b[0mraw_input\u001b[0m\u001b[0;34m(\u001b[0m\u001b[0;34m)\u001b[0m\u001b[0;34m.\u001b[0m\u001b[0mstrip\u001b[0m\u001b[0;34m(\u001b[0m\u001b[0;34m)\u001b[0m\u001b[0;34m)\u001b[0m\u001b[0;34m\u001b[0m\u001b[0m\n",
        "\u001b[0;32m/Library/Python/2.7/site-packages/IPython/kernel/zmq/ipkernel.pyc\u001b[0m in \u001b[0;36m<lambda>\u001b[0;34m(prompt)\u001b[0m\n\u001b[1;32m    361\u001b[0m         \u001b[0;31m# raw_input in the user namespace.\u001b[0m\u001b[0;34m\u001b[0m\u001b[0;34m\u001b[0m\u001b[0m\n\u001b[1;32m    362\u001b[0m         \u001b[0;32mif\u001b[0m \u001b[0mcontent\u001b[0m\u001b[0;34m.\u001b[0m\u001b[0mget\u001b[0m\u001b[0;34m(\u001b[0m\u001b[0;34m'allow_stdin'\u001b[0m\u001b[0;34m,\u001b[0m \u001b[0mFalse\u001b[0m\u001b[0;34m)\u001b[0m\u001b[0;34m:\u001b[0m\u001b[0;34m\u001b[0m\u001b[0m\n\u001b[0;32m--> 363\u001b[0;31m             \u001b[0mraw_input\u001b[0m \u001b[0;34m=\u001b[0m \u001b[0;32mlambda\u001b[0m \u001b[0mprompt\u001b[0m\u001b[0;34m=\u001b[0m\u001b[0;34m''\u001b[0m\u001b[0;34m:\u001b[0m \u001b[0mself\u001b[0m\u001b[0;34m.\u001b[0m\u001b[0m_raw_input\u001b[0m\u001b[0;34m(\u001b[0m\u001b[0mprompt\u001b[0m\u001b[0;34m,\u001b[0m \u001b[0mident\u001b[0m\u001b[0;34m,\u001b[0m \u001b[0mparent\u001b[0m\u001b[0;34m)\u001b[0m\u001b[0;34m\u001b[0m\u001b[0m\n\u001b[0m\u001b[1;32m    364\u001b[0m             \u001b[0minput\u001b[0m \u001b[0;34m=\u001b[0m \u001b[0;32mlambda\u001b[0m \u001b[0mprompt\u001b[0m\u001b[0;34m=\u001b[0m\u001b[0;34m''\u001b[0m\u001b[0;34m:\u001b[0m \u001b[0meval\u001b[0m\u001b[0;34m(\u001b[0m\u001b[0mraw_input\u001b[0m\u001b[0;34m(\u001b[0m\u001b[0mprompt\u001b[0m\u001b[0;34m)\u001b[0m\u001b[0;34m)\u001b[0m\u001b[0;34m\u001b[0m\u001b[0m\n\u001b[1;32m    365\u001b[0m         \u001b[0;32melse\u001b[0m\u001b[0;34m:\u001b[0m\u001b[0;34m\u001b[0m\u001b[0m\n",
        "\u001b[0;32m/Library/Python/2.7/site-packages/IPython/kernel/zmq/ipkernel.pyc\u001b[0m in \u001b[0;36m_raw_input\u001b[0;34m(self, prompt, ident, parent)\u001b[0m\n\u001b[1;32m    763\u001b[0m             \u001b[0;32mexcept\u001b[0m \u001b[0mKeyboardInterrupt\u001b[0m\u001b[0;34m:\u001b[0m\u001b[0;34m\u001b[0m\u001b[0m\n\u001b[1;32m    764\u001b[0m                 \u001b[0;31m# re-raise KeyboardInterrupt, to truncate traceback\u001b[0m\u001b[0;34m\u001b[0m\u001b[0;34m\u001b[0m\u001b[0m\n\u001b[0;32m--> 765\u001b[0;31m                 \u001b[0;32mraise\u001b[0m \u001b[0mKeyboardInterrupt\u001b[0m\u001b[0;34m\u001b[0m\u001b[0m\n\u001b[0m\u001b[1;32m    766\u001b[0m             \u001b[0;32melse\u001b[0m\u001b[0;34m:\u001b[0m\u001b[0;34m\u001b[0m\u001b[0m\n\u001b[1;32m    767\u001b[0m                 \u001b[0;32mbreak\u001b[0m\u001b[0;34m\u001b[0m\u001b[0m\n",
        "\u001b[0;31mKeyboardInterrupt\u001b[0m: "
       ]
      }
     ],
     "prompt_number": 658
    },
    {
     "cell_type": "code",
     "collapsed": false,
     "input": [
      "st = 'Sorting1234'\n",
      "def iseven(x):\n",
      "  if x.isdigit():\n",
      "    return int(x)+9 if int(x)%2==0 else int(x)\n",
      "res=sorted(st, key=lambda x: (x.isdigit(), x.isupper(),iseven(x),ord(x) ))\n",
      "\n",
      "#print ''.join(res)\n",
      "aString=reduce(lambda x,y:x+y,res)  #using reduce instead of join.\n",
      "aString\n",
      "\n",
      "#sorted(list, key=lambda x: (function1(x), function2(x), function3(x))"
     ],
     "language": "python",
     "metadata": {},
     "outputs": [
      {
       "metadata": {},
       "output_type": "pyout",
       "prompt_number": 659,
       "text": [
        "'ginortS1324'"
       ]
      }
     ],
     "prompt_number": 659
    },
    {
     "cell_type": "code",
     "collapsed": false,
     "input": [
      "#Itertools exercise:\n",
      "import itertools\n",
      "\n",
      "chains = itertools.chain('ABC', 'DEF')\n",
      "print \"chains:\", (list(chains))\n",
      "\n",
      "cp = itertools.compress('ABCDEF', [1,0,1,0,1,1])\n",
      "print\"compress:\",(list(cp))\n",
      "\n",
      "dp = itertools.dropwhile(lambda x: x<5, [1,4,6,4,1])\n",
      "print\"dropwhile:\",(list(dp))\n",
      "\n",
      "zipfun =itertools.izip('ABCD', 'xy')\n",
      "print \"zip\",list(zipfun)\n",
      "\n",
      "zlong =itertools.izip_longest('ABCD', 'xy',fillvalue=\"_\")\n",
      "print \"ziplong\",list(zlong)\n",
      "\n",
      "sl = itertools.islice('ABCDEFG', 2, None)\n",
      "print \"slice\", list(sl)\n",
      "\n",
      "perms = itertools.permutations('ABC', r=3)\n",
      "print \"permutation:\",(list(perms))\n"
     ],
     "language": "python",
     "metadata": {},
     "outputs": [
      {
       "output_type": "stream",
       "stream": "stdout",
       "text": [
        "chains: ['A', 'B', 'C', 'D', 'E', 'F']\n",
        "compress: ['A', 'C', 'E', 'F']\n",
        "dropwhile: [6, 4, 1]\n",
        "zip [('A', 'x'), ('B', 'y')]\n",
        "ziplong [('A', 'x'), ('B', 'y'), ('C', '_'), ('D', '_')]\n",
        "slice ['C', 'D', 'E', 'F', 'G']\n",
        "permutation: [('A', 'B', 'C'), ('A', 'C', 'B'), ('B', 'A', 'C'), ('B', 'C', 'A'), ('C', 'A', 'B'), ('C', 'B', 'A')]\n"
       ]
      }
     ],
     "prompt_number": 83
    },
    {
     "cell_type": "code",
     "collapsed": false,
     "input": [
      "from itertools import groupby\n",
      "\n",
      "things = [(\"animal\", \"bear\"), (\"animal\", \"duck\")]\n",
      "lfun = lambda x: x[0]\n",
      "for key, group in groupby(things,lfun):\n",
      "    for thing in group:\n",
      "        print \"A %s is a %s.\" % (thing[1], key)\n",
      "    "
     ],
     "language": "python",
     "metadata": {},
     "outputs": [
      {
       "output_type": "stream",
       "stream": "stdout",
       "text": [
        "A bear is a animal.\n",
        "A duck is a animal.\n"
       ]
      }
     ],
     "prompt_number": 96
    },
    {
     "cell_type": "code",
     "collapsed": false,
     "input": [
      "#sub-palindrome\n",
      "\n",
      "def palindromeSubStrs(s):\n",
      "    m = dict()\n",
      "    n = len(s)\n",
      " \n",
      "    # table for storing results (2 rows for odd-\n",
      "    # and even-length palindromes\n",
      "    R = [[0 for x in xrange(n+1)] for x in xrange(2)]\n",
      "\n",
      "    # Find all sub-string palindromes from the given input\n",
      "    # string insert 'guards' to iterate easily over s\n",
      "    s = \"@\" + s + \"#\"\n",
      " \n",
      "    for j in xrange(2):\n",
      "        rp = 0    # length of 'palindrome radius'\n",
      "        R[j][0] = 0\n",
      " \n",
      "        i = 1\n",
      "        while i <= n:\n",
      " \n",
      "            # Attempt to expand palindrome centered at i\n",
      "            while s[i - rp - 1] == s[i + j + rp]:\n",
      "                rp += 1 # Incrementing the length of palindromic\n",
      "                        # radius as and when we find valid palindrome\n",
      " \n",
      "            # Assigning the found palindromic length to odd/even\n",
      "            # length array\n",
      "            R[j][i] = rp\n",
      "            k = 1\n",
      "            while (R[j][i - k] != rp - k) and (k < rp):\n",
      "                R[j][i+k] = min(R[j][i-k], rp - k)\n",
      "                k += 1\n",
      "            rp = max(rp - k, 0)\n",
      "            i += k\n",
      " \n",
      "    # remove guards\n",
      "    s = s[1:len(s)-1]\n",
      " \n",
      "    # Put all obtained palindromes in a hash map to\n",
      "    # find only distinct palindrome\n",
      "    m[s[0]] = 1\n",
      "    for i in xrange(1,n):\n",
      "        for j in xrange(2):\n",
      "            for rp in xrange(R[j][i],0,-1):\n",
      "                m[s[i - rp - 1 : i - rp - 1 + 2 * rp + j]] = 1\n",
      "        m[s[i]] = 1\n",
      " \n",
      "    # printing all distinct palindromes from hash map\n",
      "    print \"Below are \" + str(len(m)) + \" pali sub-strings\"\n",
      "    for i in m:\n",
      "        print i\n",
      "        \n",
      "palindromeSubStrs('aabaa')"
     ],
     "language": "python",
     "metadata": {},
     "outputs": [
      {
       "output_type": "stream",
       "stream": "stdout",
       "text": [
        "Below are 5 pali sub-strings\n",
        "a\n",
        "aa\n",
        "aabaa\n",
        "b\n",
        "aba\n"
       ]
      }
     ],
     "prompt_number": 4
    },
    {
     "cell_type": "code",
     "collapsed": false,
     "input": [
      "#max profit\n",
      "\n",
      "def maxProfit(price,n):\n",
      "    profit = [0]*n\n",
      "    max_price=price[n-1]\n",
      "    for i in range( n-2, 0 ,-1):\n",
      "        if price[i]> max_price:\n",
      "            max_price = price[i]\n",
      "        profit[i] = max(profit[i+1], max_price - price[i])  \n",
      "    min_price=price[0]\n",
      "    \n",
      "    for i in range(1,n):\n",
      "        if price[i] < min_price:\n",
      "            min_price = price[i]  \n",
      "        profit[i] = max(profit[i-1], profit[i]+(price[i]-min_price))\n",
      "    result = profit[n-1]\n",
      "    return result\n",
      "\n",
      "price = [2, 30, 15, 10, 8, 25, 80]\n",
      "print \"Maximum profit is\", maxProfit(price, len(price))\n"
     ],
     "language": "python",
     "metadata": {},
     "outputs": [
      {
       "output_type": "stream",
       "stream": "stdout",
       "text": [
        "Maximum profit is 100\n"
       ]
      }
     ],
     "prompt_number": 660
    },
    {
     "cell_type": "code",
     "collapsed": false,
     "input": [
      "#Implement playing Card game\n",
      "class Card(object):\n",
      "    suits = (\"Clubs\",\"Hearts\",\"Spades\",\"Diamonds\")\n",
      "    pips = (\"2\",\"3\",\"4\",\"5\",\"6\",\"7\",\"8\",\"9\",\"10\",\"Jack\",\"Queen\",\"King\",\"Ace\")\n",
      "\n",
      "    def __init__(self, pip,suit):\n",
      "        self.pip=pip\n",
      "        self.suit=suit\n",
      "\n",
      "    def __str__(self):\n",
      "        return \"%s %s\"%(self.pip,self.suit)\n",
      "\n",
      "class Deck(object):\n",
      "    def __init__(self):\n",
      "        self.deck = [Card(pip,suit) for suit in Card.suits for pip in Card.pips]\n",
      "\n",
      "    def __str__(self):\n",
      "        return \"[%s]\"%\", \".join( (str(card) for card in self.deck))\n",
      "\n",
      "    def shuffle(self):\n",
      "        random.shuffle(self.deck)\n",
      "\n",
      "    def deal(self):\n",
      "        self.shuffle() \n",
      "        return self.deck.pop(0)\n",
      "\n"
     ],
     "language": "python",
     "metadata": {},
     "outputs": [
      {
       "output_type": "stream",
       "stream": "stdout",
       "text": [
        "<unbound method Deck.shuffle>\n"
       ]
      }
     ],
     "prompt_number": 6
    },
    {
     "cell_type": "markdown",
     "metadata": {},
     "source": [
      "#AI IMPLEMENTATIONS."
     ]
    },
    {
     "cell_type": "code",
     "collapsed": false,
     "input": [
      "from collections import Counter\n",
      "d = {'Name':'Sindhuri', 'Age':'23','Place':'Milpitas'}\n",
      "print Counter(d['Name'])\n",
      "print Counter(d)"
     ],
     "language": "python",
     "metadata": {},
     "outputs": [
      {
       "output_type": "stream",
       "stream": "stdout",
       "text": [
        "Counter({'i': 2, 'd': 1, 'h': 1, 'n': 1, 'S': 1, 'r': 1, 'u': 1})\n",
        "Counter({'Name': 'Sindhuri', 'Place': 'Milpitas', 'Age': '23'})\n"
       ]
      }
     ],
     "prompt_number": 59
    },
    {
     "cell_type": "code",
     "collapsed": false,
     "input": [
      "class graph:\n",
      "    def __init__(self):\n",
      "        self.edges = {} #empty dictionary\n",
      "    def neighbor(self,id):\n",
      "        return self.edges[id]\n",
      "    \n",
      "ex_graph = graph()\n",
      "ex_graph.edges = {'A': ['B', 'C'],\n",
      "         'B': ['A', 'D', 'E'],\n",
      "         'C': ['A', 'F'],\n",
      "         'D': ['B'],\n",
      "         'E': ['B', 'F'],\n",
      "         'F': ['C', 'E']}   \n",
      "\n",
      "import collections\n",
      "class Queue:\n",
      "    def __init__(self):\n",
      "        self.elements = collections.deque()\n",
      "\n",
      "    def empty(self):\n",
      "        return len(self.elements) == 0\n",
      "    \n",
      "    def put(self,x):\n",
      "        self.elements.append(x)\n",
      "    \n",
      "    def get(self):\n",
      "        return self.elements.popleft()\n",
      "        \n",
      "#Breadth first search\n",
      "\n",
      "def BFS(graph,start):\n",
      "    frontier = Queue()\n",
      "    frontier.put(start)\n",
      "    visited ={}  #create an empty dictionary\n",
      "    visited[start] = True\n",
      "    \n",
      "    while not frontier.empty():\n",
      "        current = frontier.get()\n",
      "        print current\n",
      "        for next in graph.neighbor(current):\n",
      "            if next not in visited:\n",
      "                frontier.put(next)\n",
      "                visited[next] = True\n",
      "             \n",
      "BFS(ex_graph,'A')"
     ],
     "language": "python",
     "metadata": {},
     "outputs": [
      {
       "output_type": "stream",
       "stream": "stdout",
       "text": [
        "A\n",
        "B\n",
        "C\n",
        "D\n",
        "E\n",
        "F\n"
       ]
      }
     ],
     "prompt_number": 116
    },
    {
     "cell_type": "code",
     "collapsed": false,
     "input": [
      "#Depth first search\n",
      "\n",
      "def DFS(graph,start):\n",
      "    stack = [start]\n",
      "    visited = []\n",
      "    while stack:\n",
      "        vertex = stack.pop()\n",
      "        if vertex not in visited:\n",
      "            visited.append(vertex)\n",
      "            stack.extend(set(graph[vertex]) - set(visited))\n",
      "    return visited\n",
      " \n",
      "    \n",
      "graph = {'A': ['B', 'C'],\n",
      "         'B': ['A', 'D', 'E'],\n",
      "         'C': ['A', 'F'],\n",
      "         'D': ['B'],\n",
      "         'E': ['B', 'F'],\n",
      "         'F': ['C', 'E']}   \n",
      "\n",
      "print DFS(graph, 'A')   \n",
      "\n"
     ],
     "language": "python",
     "metadata": {},
     "outputs": [
      {
       "output_type": "stream",
       "stream": "stdout",
       "text": [
        "['A', 'B', 'D', 'E', 'F', 'C']\n"
       ]
      }
     ],
     "prompt_number": 110
    },
    {
     "cell_type": "code",
     "collapsed": false,
     "input": [
      "#A* Algorithm\n",
      "import heapq\n",
      "\n",
      "class graph:\n",
      "    def __init__(self):\n",
      "        self.edges = {}\n",
      "    \n",
      "    def neighbor(self,id):\n",
      "        return self.edges[id]\n",
      "    \n",
      "\n",
      "class PriorityQueue:\n",
      "    def __init__(self):\n",
      "        self.elements = []\n",
      "    \n",
      "    def empty(self):\n",
      "        return len(self.elements) == 0\n",
      "    \n",
      "    def put(self, item, priority):\n",
      "        heapq.heappush(self.elements, (priority, item))\n",
      "    \n",
      "    def get(self):\n",
      "        return heapq.heappop(self.elements)[1]\n",
      "    \n",
      "def heuristic(a,b):\n",
      "    (x1,y1) = a\n",
      "    (x2,y2) = b\n",
      "    return abs(x1-x2) + abs(y1-y2)\n",
      "\n",
      "def a_star(start,graph,goal):\n",
      "    frontier = PriorityQueue()\n",
      "    frontier.put(start,0)\n",
      "    cost_so_far = {}\n",
      "    came_from = {}\n",
      "    cost_so_far[start] = 0\n",
      "    came_from[start] = None\n",
      "    \n",
      "    while not frontier.empty():\n",
      "        current = frontier.get()\n",
      "        if current == goal:\n",
      "            break\n",
      "        for next in graph.neighbor(current):\n",
      "            new_cost = cost_so_far[current] + graph.cost(current,next)\n",
      "            if next not in cost_so_far or new_cost < cost_so_far[next]:\n",
      "                cost_so_far[next] = new_cost\n",
      "                priority = new_cost + heuristic(goal,next)\n",
      "                frontier.put(next,priority)\n",
      "                came_from[next] = current\n",
      "                \n",
      "        return cost_so_far, came_from\n",
      "    \n",
      "#dijkstra's extension\n",
      "def reconstruct_path(came_from,start,goal):\n",
      "    current = goal\n",
      "    path = [current]\n",
      "    while current != start:\n",
      "        current = came_from[current]\n",
      "        path.append(current)\n",
      "    path.reverse()\n",
      "    return path\n",
      "     "
     ],
     "language": "python",
     "metadata": {},
     "outputs": [],
     "prompt_number": 121
    },
    {
     "cell_type": "code",
     "collapsed": false,
     "input": [
      "def singleNumber(nums):\n",
      "    res = 0\n",
      "    for num in nums:\n",
      "        res ^= num #bitwise exclusive OR.\n",
      "    return res\n",
      "\n",
      "singleNumber([1,1,2,3,3,4,4])"
     ],
     "language": "python",
     "metadata": {},
     "outputs": [
      {
       "metadata": {},
       "output_type": "pyout",
       "prompt_number": 9,
       "text": [
        "2"
       ]
      }
     ],
     "prompt_number": 9
    },
    {
     "cell_type": "code",
     "collapsed": false,
     "input": [
      "#Given a m x n grid filled with non-negative numbers, find a path from top left to bottom right which minimizes the \n",
      "#sum of all numbers along its path.\n",
      "grid = [[1,2,3],[4,5,6],[7,8,9],[10,11,12]]\n",
      "\n",
      "def minPathSum(grid):\n",
      "        n = len(grid)\n",
      "        m = len(grid[0])\n",
      "        for i in range(1, n):\n",
      "            grid[i][0] = grid[i-1][0] + grid[i][0]\n",
      "        for i in range(1, m):\n",
      "            grid[0][i] = grid[0][i-1] + grid[0][i]\n",
      "        for i in range(1, m):\n",
      "            for j in range(1, n):\n",
      "                grid[j][i] = min(grid[j][i-1], grid[j-1][i])+grid[j][i]\n",
      "        return grid[n-1][m-1]\n",
      "\n",
      "minPathSum(grid)"
     ],
     "language": "python",
     "metadata": {},
     "outputs": [
      {
       "metadata": {},
       "output_type": "pyout",
       "prompt_number": 36,
       "text": [
        "33"
       ]
      }
     ],
     "prompt_number": 36
    },
    {
     "cell_type": "code",
     "collapsed": false,
     "input": [
      "from difflib import SequenceMatcher\n",
      "\n",
      "def similar(a, b):\n",
      "    return SequenceMatcher(None, a, b).ratio()*len(b)\n",
      "\n",
      "similar(\"Apple\",\"Appl\")"
     ],
     "language": "python",
     "metadata": {},
     "outputs": [
      {
       "metadata": {},
       "output_type": "pyout",
       "prompt_number": 15,
       "text": [
        "3.5555555555555554"
       ]
      }
     ],
     "prompt_number": 15
    },
    {
     "cell_type": "code",
     "collapsed": false,
     "input": [
      "def simil(a,b):\n",
      "    count = 0\n",
      "    for i in range(0,len(b)):\n",
      "        if a[i] == b[i]:\n",
      "            count +=1\n",
      "        else:\n",
      "            break\n",
      "    return count\n",
      "\n",
      "simil('ababa','aba')"
     ],
     "language": "python",
     "metadata": {},
     "outputs": [
      {
       "metadata": {},
       "output_type": "pyout",
       "prompt_number": 19,
       "text": [
        "3"
       ]
      }
     ],
     "prompt_number": 19
    },
    {
     "cell_type": "code",
     "collapsed": false,
     "input": [
      "def find_count(str1, substr):\n",
      "    print\"DONE\"\n",
      "\n",
      "str1 = 'ababab'\n",
      "num_list = [2, 3, 4]\n",
      "answ = 0\n",
      "for x in range(len(num_list)):\n",
      "    unique_substr = dict()\n",
      "    substr_len = num_list[x]\n",
      "    print \"substr_len\", substr_len\n",
      "    \n",
      "    for i in range(len(str1)):\n",
      "        end = i+substr_len\n",
      "        if end <= len(str1):\n",
      "            val = 0\n",
      "            sub_str = str1[i:end]\n",
      "            if sub_str in unique_substr:\n",
      "                val = unique_substr[sub_str]\n",
      "                unique_substr[sub_str] = val + 1\n",
      "            else:\n",
      "                unique_substr[sub_str] = 1\n",
      "            if answ < unique_substr[sub_str]:\n",
      "                answ = unique_substr[sub_str]\n",
      "            print substr_len, \" \", sub_str, \"len=\", len(unique_substr)\n",
      "    #for key in unique_substr:\n",
      "      #  print \"str, substr\", str1, key\n",
      "      #  find_count(str1, key)\n",
      "    \n",
      "    print \"answ--\", answ\n",
      "\n",
      "\n",
      "    "
     ],
     "language": "python",
     "metadata": {},
     "outputs": [
      {
       "output_type": "stream",
       "stream": "stdout",
       "text": [
        "substr_len 2\n",
        "2   ab len= 1\n",
        "2   ba len= 2\n",
        "2   ab len= 2\n",
        "2   ba len= 2\n",
        "2   ab len= 2\n",
        "answ-- 3\n",
        "substr_len 3\n",
        "3   aba len= 1\n",
        "3   bab len= 2\n",
        "3   aba len= 2\n",
        "3   bab len= 2\n",
        "answ-- 3\n",
        "substr_len 4\n",
        "4   abab len= 1\n",
        "4   baba len= 2\n",
        "4   abab len= 2\n",
        "answ-- 3\n"
       ]
      }
     ],
     "prompt_number": 84
    },
    {
     "cell_type": "code",
     "collapsed": false,
     "input": [
      "text = '25     4 5'\n",
      "text.split()\n"
     ],
     "language": "python",
     "metadata": {},
     "outputs": [
      {
       "metadata": {},
       "output_type": "pyout",
       "prompt_number": 89,
       "text": [
        "['25', '4', '5']"
       ]
      }
     ],
     "prompt_number": 89
    },
    {
     "cell_type": "code",
     "collapsed": false,
     "input": [
      "s = 'ba'\n",
      "arr =[]\n",
      "for i in range(0,len(s)):\n",
      "    for j in range(0,i):\n",
      "        arr.append(s[j:i])\n",
      "        arr.append(s[j:i+1])\n",
      "set(arr)\n",
      "        "
     ],
     "language": "python",
     "metadata": {},
     "outputs": [
      {
       "metadata": {},
       "output_type": "pyout",
       "prompt_number": 22,
       "text": [
        "{'b', 'ba'}"
       ]
      }
     ],
     "prompt_number": 22
    },
    {
     "cell_type": "code",
     "collapsed": false,
     "input": [
      "#Given a sequence of n positive integers we need to count consecutive sub-sequences whose sum is divisible by k.\n",
      "#https://www.hackerrank.com/contests/w6/challenges/consecutive-subsequences\n",
      "\n",
      "test_cases = input()\n",
      "\n",
      "for _ in range(test_cases):\n",
      "    n, k = map(int, raw_input().strip().split(' '))\n",
      "    input_list = map(int, raw_input().strip().split(' '))\n",
      "    get_count(input_list,k) \n",
      "\n",
      "def get_count(input_list,k):\n",
      "    pref_sum = 0\n",
      "    cnt_mod ={}\n",
      "    for k in cnt_mod:\n",
      "        cnt_mod[k] = 0\n",
      "    for element in input_list:\n",
      "        pref_sum += element\n",
      "        pref_sum %= k\n",
      "        cnt_mod[pref_sum] = int(cnt_mod.get(pref_sum,0))+1\n",
      "    res = 0\n",
      "    for mod in range(0,k):\n",
      "        temp = int(cnt_mod.get(mod,0))\n",
      "        res += (temp * (temp-1))/2\n",
      "    return res\n",
      "\n",
      "   "
     ],
     "language": "python",
     "metadata": {},
     "outputs": [
      {
       "name": "stdout",
       "output_type": "stream",
       "stream": "stdout",
       "text": [
        "1\n"
       ]
      },
      {
       "name": "stdout",
       "output_type": "stream",
       "stream": "stdout",
       "text": [
        "3 4\n"
       ]
      },
      {
       "name": "stdout",
       "output_type": "stream",
       "stream": "stdout",
       "text": [
        "1 5 6\n"
       ]
      },
      {
       "output_type": "stream",
       "stream": "stdout",
       "text": [
        "0\n"
       ]
      }
     ],
     "prompt_number": 101
    },
    {
     "cell_type": "code",
     "collapsed": false,
     "input": [
      "test_cases = input()\n",
      "\n",
      "for _ in range(test_cases):\n",
      "    n, k = map(int, raw_input().strip().split(' '))\n",
      "    inp_list = map(int, raw_input().strip().split(' '))\n",
      "    \n",
      "    array = []\n",
      "    k_dict = {}\n",
      "    res = 0\n",
      "    \n",
      "    array.append(inp_list[0])\n",
      "\n",
      "    for i in range(1, n):\n",
      "        array.append(array[i - 1] + inp_list[i])\n",
      "    \n",
      "    for i in range(k):\n",
      "        k_dict[i] = 0\n",
      "    print k_dict\n",
      "\n",
      "    for i in array:\n",
      "        mod = i % k\n",
      "        if mod == 0:\n",
      "            res += 1\n",
      "        res += k_dict[mod]\n",
      "        k_dict[mod] += 1\n",
      "\n",
      "    print res\n"
     ],
     "language": "python",
     "metadata": {},
     "outputs": [
      {
       "name": "stdout",
       "output_type": "stream",
       "stream": "stdout",
       "text": [
        "1\n"
       ]
      },
      {
       "name": "stdout",
       "output_type": "stream",
       "stream": "stdout",
       "text": [
        "4 2\n"
       ]
      },
      {
       "name": "stdout",
       "output_type": "stream",
       "stream": "stdout",
       "text": [
        "1 4 6 7\n"
       ]
      },
      {
       "output_type": "stream",
       "stream": "stdout",
       "text": [
        "{0: 0, 1: 0}\n",
        "4\n"
       ]
      }
     ],
     "prompt_number": 6
    },
    {
     "cell_type": "code",
     "collapsed": false,
     "input": [
      "# Building a Smart IDE: Identifying comments\n",
      "import re\n",
      "import sys\n",
      "fulltext = sys.stdin.read()\n",
      "\n",
      "\n",
      "pattern = '(//.*|/\\*[\\d\\D]*?\\*/)'\n",
      "match = re.findall(pattern, fulltext)\n",
      "for i in match:\n",
      "    j = i.split(\"\\n\")\n",
      "    for k in j:\n",
      "        print k.lstrip()"
     ],
     "language": "python",
     "metadata": {},
     "outputs": [],
     "prompt_number": 18
    },
    {
     "cell_type": "code",
     "collapsed": false,
     "input": [
      "#Maximum difference between two elements of an array, such that larger is after smaller number\n",
      "\n",
      "ip = [2, 3, 10, 6, 4, 8, 1]\n",
      "\n",
      "def maxdiff(ip,n):\n",
      "    difference = ip[1]-ip[0]\n",
      "    current_sum = difference\n",
      "    maximum_sum = current_sum\n",
      "    \n",
      "    for i in range(1,n-1):\n",
      "        difference = ip[i+1]-ip[i]\n",
      "        if current_sum > 0:\n",
      "            current_sum += difference\n",
      "        else:\n",
      "            current_sum = difference\n",
      "        if current_sum > maximum_sum:\n",
      "            maximum_sum = current_sum\n",
      "    return  maximum_sum\n",
      "\n",
      "ip =  [ 7, 9, 5, 6, 3, 2 ]\n",
      "maxdiff(ip,6)"
     ],
     "language": "python",
     "metadata": {},
     "outputs": [
      {
       "metadata": {},
       "output_type": "pyout",
       "prompt_number": 5,
       "text": [
        "2"
       ]
      }
     ],
     "prompt_number": 5
    },
    {
     "cell_type": "code",
     "collapsed": false,
     "input": [
      "#balanced parenthesis or braces\n",
      "\n",
      "import re\n",
      "for i in range(input()):\n",
      "    a=raw_input()\n",
      "    boolean = True\n",
      "    while(boolean):\n",
      "        b = len(a)\n",
      "        a = re.sub(r'\\[\\]|\\{\\}|\\(\\)','',a)\n",
      "        boolean=(b>len(a))\n",
      "    print 'YES' if len(a)==0 else 'NO'"
     ],
     "language": "python",
     "metadata": {},
     "outputs": []
    },
    {
     "cell_type": "code",
     "collapsed": false,
     "input": [
      "#One more way for balanced parenthesis\n",
      "\n",
      "def validparen(s):\n",
      "    paren = {')':'(',']':'[','}':'{'}\n",
      "    stack = []\n",
      "    for i in s:\n",
      "        if i in'([{':\n",
      "            stack.append(i)\n",
      "        elif i in ')}]':\n",
      "            if len(stack) == 0:\n",
      "                return False \n",
      "            if paren.get(i) != stack.pop():\n",
      "                return False\n",
      "    return len(stack) == 0\n",
      "\n",
      "validparen(\"()\")"
     ],
     "language": "python",
     "metadata": {},
     "outputs": [
      {
       "metadata": {},
       "output_type": "pyout",
       "prompt_number": 418,
       "text": [
        "True"
       ]
      }
     ],
     "prompt_number": 418
    },
    {
     "cell_type": "code",
     "collapsed": false,
     "input": [
      "#palindrome permutation\n",
      "\n",
      "from collections import Counter\n",
      "def canPermutePalindrome(s):\n",
      "    sum = 0\n",
      "    for v in Counter(s).values():\n",
      "        sum += v%2\n",
      "    return sum<2\n",
      "        \n",
      "    \n",
      "canPermutePalindrome('code')"
     ],
     "language": "python",
     "metadata": {},
     "outputs": [
      {
       "metadata": {},
       "output_type": "pyout",
       "prompt_number": 454,
       "text": [
        "False"
       ]
      }
     ],
     "prompt_number": 454
    },
    {
     "cell_type": "markdown",
     "metadata": {},
     "source": [
      "#LEETCODE"
     ]
    },
    {
     "cell_type": "code",
     "collapsed": false,
     "input": [
      "def wiggleSort(nums):\n",
      "    for i in range(len(nums)):\n",
      "        nums[i:i+2] = sorted(nums[i:i+2], reverse=i%2)\n",
      "    return nums\n",
      "\n",
      "nums = [6,3,9,8,3]  \n",
      "wiggleSort(nums)\n"
     ],
     "language": "python",
     "metadata": {},
     "outputs": [
      {
       "metadata": {},
       "output_type": "pyout",
       "prompt_number": 664,
       "text": [
        "[3, 9, 6, 8, 3]"
       ]
      }
     ],
     "prompt_number": 664
    },
    {
     "cell_type": "code",
     "collapsed": false,
     "input": [
      "#spiral matrix\n",
      "matrix  = [[1,2,3],[4,5,6],[7,8,9]]\n",
      "\n",
      "def spiralOrder(matrix):\n",
      "    res = []\n",
      "    m = len(matrix)\n",
      "    n = len(matrix[0])\n",
      "    u, d, l, r = 0, m - 1, 0, n - 1 #up down left right\n",
      "    while l<r and u<d:\n",
      "        res.extend([matrix[u][i] for i in range(l,r)])\n",
      "        res.extend([matrix[j][r] for j in range(u,d)])\n",
      "        res.extend([matrix[d][i] for i in range(r,l,-1)])\n",
      "        res.extend([matrix[j][l] for j in range(d,u,-1)])\n",
      "        l = l+1\n",
      "        r = r-1\n",
      "        u = u+1\n",
      "        d = d-1\n",
      "    if l == r:\n",
      "        res.extend([matrix[i][r] for i in xrange(u, d + 1)])\n",
      "    elif u == d:\n",
      "        res.extend([matrix[u][j] for j in xrange(l, r + 1)])\n",
      "    \n",
      "    return res\n",
      "\n",
      "spiralOrder(matrix)"
     ],
     "language": "python",
     "metadata": {},
     "outputs": [
      {
       "metadata": {},
       "output_type": "pyout",
       "prompt_number": 56,
       "text": [
        "[1, 2, 3, 6, 9, 8, 7, 4, 5]"
       ]
      }
     ],
     "prompt_number": 56
    },
    {
     "cell_type": "code",
     "collapsed": false,
     "input": [
      "#Count all numbers with unique digits\n",
      "\n",
      "import math\n",
      "def countNumbersWithUniqueDigits(n):\n",
      "    sum = 10\n",
      "    if n == 0:\n",
      "        return 1\n",
      "    if n == 1:\n",
      "        return sum\n",
      "    for i in range(2,n+1):\n",
      "        sum = sum+((9*(math.factorial(9)))/math.factorial(10-i))\n",
      "    return sum\n",
      "\n",
      "countNumbersWithUniqueDigits(1)"
     ],
     "language": "python",
     "metadata": {},
     "outputs": [
      {
       "metadata": {},
       "output_type": "pyout",
       "prompt_number": 572,
       "text": [
        "10"
       ]
      }
     ],
     "prompt_number": 572
    },
    {
     "cell_type": "code",
     "collapsed": false,
     "input": [
      "#count bits and binary 1's \n",
      "def binary_count(n):\n",
      "        bi = []\n",
      "        while n > 0:\n",
      "            b = n%2\n",
      "            q = n/2\n",
      "            n = q\n",
      "            bi.append(b)\n",
      "        return bi.count(1)\n",
      "    \n",
      "def countBits(num):\n",
      "        res = []\n",
      "        for i in range(num+1):\n",
      "            x = binary_count(i)\n",
      "            res.append(x)\n",
      "        return res\n",
      "    \n",
      "print binary_count(13)  \n",
      "print countBits(6)"
     ],
     "language": "python",
     "metadata": {},
     "outputs": [
      {
       "output_type": "stream",
       "stream": "stdout",
       "text": [
        "3\n",
        "[0, 1, 1, 2, 1, 2, 2]\n"
       ]
      }
     ],
     "prompt_number": 676
    },
    {
     "cell_type": "code",
     "collapsed": false,
     "input": [
      "#3 sum\n",
      "nums = [-1, 0, 1, 2, -1, -4]\n",
      "def threeSum(nums):\n",
      "    res = []\n",
      "    ans = []\n",
      "    nums.sort()\n",
      "    print nums\n",
      "    l = len(nums)\n",
      "    for i in range(l):\n",
      "        if nums[i] == nums[i-1]:\n",
      "            continue\n",
      "        target = 0-nums[i]\n",
      "        j = i+1\n",
      "        k = l-1\n",
      "        while(j<k):\n",
      "            if nums[j] + nums[k] == target:\n",
      "                res.append([nums[i],nums[j],nums[k]])\n",
      "                if (nums[j]==nums[j+1]):\n",
      "                    j = j+1\n",
      "                if (nums[k]==nums[k-1]):\n",
      "                    k = k-1\n",
      "                j = j+1\n",
      "                k = k-1\n",
      "            elif nums[j] + nums[k] < target:\n",
      "                j = j+1\n",
      "            else:\n",
      "                k = k-1     \n",
      "    return res\n",
      "\n",
      "threeSum(nums)"
     ],
     "language": "python",
     "metadata": {},
     "outputs": [
      {
       "output_type": "stream",
       "stream": "stdout",
       "text": [
        "[-4, -1, -1, 0, 1, 2]\n"
       ]
      },
      {
       "metadata": {},
       "output_type": "pyout",
       "prompt_number": 678,
       "text": [
        "[[-1, -1, 2], [-1, 0, 1]]"
       ]
      }
     ],
     "prompt_number": 678
    },
    {
     "cell_type": "code",
     "collapsed": false,
     "input": [
      "#best time to sell stocks\n",
      "\n",
      "def maxProfit(prices):\n",
      "    if len(prices) == 0:\n",
      "        return 0\n",
      "    minPrice = prices[0]\n",
      "    maxProfit = 0\n",
      "    for i in range(len(prices)):\n",
      "        if prices[i] < minPrice:\n",
      "            minPrice = prices[i]\n",
      "        if prices[i] - minPrice > maxProfit:\n",
      "            maxProfit = prices[i] - minPrice\n",
      "    return maxProfit\n",
      "        "
     ],
     "language": "python",
     "metadata": {},
     "outputs": [],
     "prompt_number": 142
    },
    {
     "cell_type": "code",
     "collapsed": false,
     "input": [
      "#Bulb Switcher.\n",
      "import math\n",
      "def bulbSwitch(n):\n",
      "    return int(math.sqrt(n))\n",
      "            \n",
      "bulbSwitch(1)"
     ],
     "language": "python",
     "metadata": {},
     "outputs": [
      {
       "metadata": {},
       "output_type": "pyout",
       "prompt_number": 236,
       "text": [
        "1"
       ]
      }
     ],
     "prompt_number": 236
    },
    {
     "cell_type": "code",
     "collapsed": false,
     "input": [
      "#implement sqrt\n",
      "def squareroot(x):\n",
      "    a = 1\n",
      "    b = x\n",
      "    while x>0 and (abs(a-b)>1): \n",
      "        print x\n",
      "        a = (a+b)/2\n",
      "        b = x/a\n",
      "    return a\n",
      "\n",
      "squareroot(36)"
     ],
     "language": "python",
     "metadata": {},
     "outputs": [
      {
       "output_type": "stream",
       "stream": "stdout",
       "text": [
        "36\n",
        "36\n",
        "36\n"
       ]
      },
      {
       "metadata": {},
       "output_type": "pyout",
       "prompt_number": 681,
       "text": [
        "6"
       ]
      }
     ],
     "prompt_number": 681
    },
    {
     "cell_type": "code",
     "collapsed": false,
     "input": [
      "#maximum subarray\n",
      "\n",
      "def maxSubArray(nums):\n",
      "    for i in xrange(1,len(nums)):\n",
      "        nums[i]= max(nums[i], nums[i]+nums[i-1])\n",
      "       \n",
      "    return max(nums)\n",
      "    \n",
      "    \n",
      "nums = [-2,1,-3,4,-1,2,1,-5,4]\n",
      "maxSubArray(nums)"
     ],
     "language": "python",
     "metadata": {},
     "outputs": [
      {
       "metadata": {},
       "output_type": "pyout",
       "prompt_number": 262,
       "text": [
        "6"
       ]
      }
     ],
     "prompt_number": 262
    },
    {
     "cell_type": "code",
     "collapsed": false,
     "input": [
      "#plus one (one is added to last number in list and carry to last but one number)\n",
      "def plusOne(digits):\n",
      "    num = 0\n",
      "    for i in range(len(digits)):\n",
      "        num += digits[i] * 10**(len(digits)-1-i)\n",
      "        print num\n",
      "    return [int(i) for i in str(num+1)]   \n",
      "plusOne([1,6,3,2,9]) "
     ],
     "language": "python",
     "metadata": {},
     "outputs": [
      {
       "output_type": "stream",
       "stream": "stdout",
       "text": [
        "10000\n",
        "16000\n",
        "16300\n",
        "16320\n",
        "16329\n"
       ]
      },
      {
       "metadata": {},
       "output_type": "pyout",
       "prompt_number": 532,
       "text": [
        "[1, 6, 3, 3, 0]"
       ]
      }
     ],
     "prompt_number": 532
    },
    {
     "cell_type": "code",
     "collapsed": false,
     "input": [
      "#another way\n",
      "num = ''.join(str(x) for x in [1,6,3,2,9])\n",
      "print [int(i) for i in str(int(num)+1)]   \n"
     ],
     "language": "python",
     "metadata": {},
     "outputs": [
      {
       "output_type": "stream",
       "stream": "stdout",
       "text": [
        "[1, 6, 3, 3, 0]\n"
       ]
      }
     ],
     "prompt_number": 544
    },
    {
     "cell_type": "code",
     "collapsed": false,
     "input": [
      "#plus one to the linked list.\n",
      "\n",
      "ListNode add(ListNode root) {\n",
      "    if (addOne(root)  == 1)  {\n",
      "        ListNode  tmp= new ListNode<>(1);\n",
      "        tmp.next = root;  \n",
      "        return tmp;\n",
      "    }\n",
      "    return root;\n",
      "}\n",
      "\n",
      "int addOne(ListNode node) {\n",
      "      if  (node == null)\n",
      "          return 1;\n",
      "      if  (addOne(node.next) == 1) { \n",
      "          int rem = (node.val + 1)/10;\n",
      "          node.val = (node.val + 1)% 10;\n",
      "          return rem;\n",
      "      }\n",
      "      return 0;\n",
      "  }"
     ],
     "language": "python",
     "metadata": {},
     "outputs": [
      {
       "ename": "SyntaxError",
       "evalue": "invalid syntax (<ipython-input-536-0a37b499e2f1>, line 3)",
       "output_type": "pyerr",
       "traceback": [
        "\u001b[0;36m  File \u001b[0;32m\"<ipython-input-536-0a37b499e2f1>\"\u001b[0;36m, line \u001b[0;32m3\u001b[0m\n\u001b[0;31m    ListNode add(ListNode root) {\u001b[0m\n\u001b[0m               ^\u001b[0m\n\u001b[0;31mSyntaxError\u001b[0m\u001b[0;31m:\u001b[0m invalid syntax\n"
       ]
      }
     ],
     "prompt_number": 536
    },
    {
     "cell_type": "code",
     "collapsed": false,
     "input": [
      "#power of 3\n",
      "def isPowerOfThree(n):\n",
      "    if(n>1):\n",
      "        while(n%3==0):\n",
      "            n /= 3\n",
      "            print n\n",
      "    return n==1\n",
      "\n",
      "isPowerOfThree(27)"
     ],
     "language": "python",
     "metadata": {},
     "outputs": [
      {
       "output_type": "stream",
       "stream": "stdout",
       "text": [
        "9\n",
        "3\n",
        "1\n"
       ]
      },
      {
       "metadata": {},
       "output_type": "pyout",
       "prompt_number": 308,
       "text": [
        "True"
       ]
      }
     ],
     "prompt_number": 308
    },
    {
     "cell_type": "code",
     "collapsed": false,
     "input": [
      "#Strobogrammatic 180 rotation palindrome\n",
      "def isStrobogrammatic(num):\n",
      "    dic = {'1':'1','8':'8','6':'9','9':'6','0':'0'}\n",
      "    for i in range(len(num)):\n",
      "        if num[i] in dic and dic[num[i]] == num[::-1][i]:\n",
      "            continue\n",
      "        else:\n",
      "            return False\n",
      "    return True\n",
      "        \n",
      "isStrobogrammatic('8')"
     ],
     "language": "python",
     "metadata": {},
     "outputs": [
      {
       "metadata": {},
       "output_type": "pyout",
       "prompt_number": 682,
       "text": [
        "True"
       ]
      }
     ],
     "prompt_number": 682
    },
    {
     "cell_type": "code",
     "collapsed": false,
     "input": [
      "#Strobogrammatic 180 rotation palindrome extension:\n",
      "def isStrobogrammatic(n):\n",
      "   return listofnums(n,n)\n",
      "    \n",
      "def listofnums(n,m):\n",
      "    res = []\n",
      "    list = []\n",
      "    if n == 0:\n",
      "        res = ['']\n",
      "        return res\n",
      "    if n == 1:\n",
      "        res = ['0','1','8']\n",
      "        return res\n",
      "    list = listofnums(n-2,m)\n",
      "    print \"list\",list\n",
      "    for i in range(len(list)):\n",
      "        s = list[i]\n",
      "        if (n != m): \n",
      "            res.append(\"0\" + s + \"0\");\n",
      "        res.append(\"1\" + s + \"1\");\n",
      "        res.append(\"6\" + s + \"9\");\n",
      "        res.append(\"8\" + s + \"8\");\n",
      "        res.append(\"9\" + s + \"6\");\n",
      "    return res\n",
      "    \n",
      "        \n",
      "isStrobogrammatic(3)"
     ],
     "language": "python",
     "metadata": {},
     "outputs": [
      {
       "output_type": "stream",
       "stream": "stdout",
       "text": [
        "list ['0', '1', '8']\n"
       ]
      },
      {
       "metadata": {},
       "output_type": "pyout",
       "prompt_number": 689,
       "text": [
        "['101',\n",
        " '609',\n",
        " '808',\n",
        " '906',\n",
        " '111',\n",
        " '619',\n",
        " '818',\n",
        " '916',\n",
        " '181',\n",
        " '689',\n",
        " '888',\n",
        " '986']"
       ]
      }
     ],
     "prompt_number": 689
    },
    {
     "cell_type": "code",
     "collapsed": false,
     "input": [
      "#Deque operations:\n",
      "from collections import deque\n",
      "d = deque('abcdd')"
     ],
     "language": "python",
     "metadata": {},
     "outputs": [],
     "prompt_number": 469
    },
    {
     "cell_type": "code",
     "collapsed": false,
     "input": [
      "d.append(x)\n",
      "d.appendleft(x)\n",
      "d.clear()\n",
      "d.count(x)\n",
      "d.extend(iterable)\n",
      "d.extendleft(iterable)\n",
      "d.pop()\n",
      "d.popleft()\n",
      "d.remove(value) #removes only first occurence.\n",
      "d.reverse()\n",
      "d.rotate(n)\n",
      "d.maxlen"
     ],
     "language": "python",
     "metadata": {},
     "outputs": []
    },
    {
     "cell_type": "code",
     "collapsed": false,
     "input": [
      "def isReflected(points):\n",
      "    if not points: \n",
      "        return True\n",
      "    X = min(points)[0] + max(points)[0]\n",
      "    return {(x, y) for x, y in points} == {(X - x, y) for x, y in points}\n",
      "\n",
      "isReflected([[-1,1],[1,1]])\n"
     ],
     "language": "python",
     "metadata": {},
     "outputs": [
      {
       "metadata": {},
       "output_type": "pyout",
       "prompt_number": 691,
       "text": [
        "True"
       ]
      }
     ],
     "prompt_number": 691
    },
    {
     "cell_type": "code",
     "collapsed": false,
     "input": [
      "points = [[-1,1],[1,1]]\n",
      "print {(x, y) for x, y in points}"
     ],
     "language": "python",
     "metadata": {},
     "outputs": [
      {
       "output_type": "stream",
       "stream": "stdout",
       "text": [
        "set([(-1, 1), (1, 1)])\n"
       ]
      }
     ],
     "prompt_number": 480
    },
    {
     "cell_type": "code",
     "collapsed": false,
     "input": [
      "#perfect squares\n",
      "\n",
      "def numSquares(n):\n",
      "    if n < 2:\n",
      "        return 1\n",
      "    lst = []\n",
      "    new=[]\n",
      "    i=1\n",
      "    while i*i <= n:\n",
      "        lst.append(i*i)\n",
      "        i = i+1\n",
      "\n",
      "    ans = [n]*len(lst)\n",
      "    c=0\n",
      "    while(1):\n",
      "        for i in range(len(lst)):\n",
      "            if lst[i] in ans:\n",
      "                c = c+1\n",
      "                return c\n",
      "        ans = sublist(ans,lst)\n",
      "        c = c+1\n",
      "                 \n",
      "            \n",
      "def sublist(target,lst):\n",
      "    new = set()\n",
      "    for a in target:\n",
      "        for b in lst:\n",
      "            if a-b not in new:\n",
      "                new.add(a-b)\n",
      "    return new\n",
      "\n",
      "    \n",
      "    \n",
      "numSquares(25)"
     ],
     "language": "python",
     "metadata": {},
     "outputs": [
      {
       "metadata": {},
       "output_type": "pyout",
       "prompt_number": 64,
       "text": [
        "1"
       ]
      }
     ],
     "prompt_number": 64
    },
    {
     "cell_type": "code",
     "collapsed": false,
     "input": [
      "#islands\n",
      "\n",
      "grid = [['1','1','0'],['1','1','0'],['0','0','1']]\n",
      "\n",
      "def numIslands(grid):\n",
      "    sm = 0\n",
      "    for i in range(len(grid)):\n",
      "        for j in range(len(grid[i])):\n",
      "            sm = sm + delete(i, j)\n",
      "    return sm\n",
      "\n",
      "            \n",
      "\n",
      "def delete(i, j):\n",
      "    if 0 <= i < len(grid) and 0 <= j < len(grid[i]) and grid[i][j] == '1':\n",
      "        grid[i][j] = '0'\n",
      "        delete(i+1,j) \n",
      "        delete(i-1,j)\n",
      "        delete(i,j+1)\n",
      "        delete(i,j-1)\n",
      "        return 1\n",
      "    return 0\n",
      "    \n",
      "numIslands(grid)"
     ],
     "language": "python",
     "metadata": {},
     "outputs": [
      {
       "metadata": {},
       "output_type": "pyout",
       "prompt_number": 65,
       "text": [
        "2"
       ]
      }
     ],
     "prompt_number": 65
    },
    {
     "cell_type": "code",
     "collapsed": false,
     "input": [
      "#merge k sorted arrays - The time is O(nlog(n)).\n",
      "\n",
      "import heapq\n",
      "\n",
      "class Solution:\n",
      "    # @param {int[][]} arrays k sorted integer arrays\n",
      "    # @return {int[]} a sorted array\n",
      "    def mergekSortedArrays(self, arrays):\n",
      "        result = []\n",
      "        heap = []\n",
      "        for index, array in enumerate(arrays):\n",
      "            if len(array) == 0:\n",
      "                continue\n",
      "            heapq.heappush(heap, (array[0], index, 0))\n",
      "             \n",
      "        while len(heap):\n",
      "            val, x, y = heap[0]\n",
      "            heapq.heappop(heap)\n",
      "            result.append(val)\n",
      "            if y + 1 < len(arrays[x]):\n",
      "                heapq.heappush(heap, (arrays[x][y + 1], x, y + 1))\n",
      "            \n",
      "        return result\n",
      "        \n",
      "ans=Solution()\n",
      "ans.mergekSortedArrays([[1,6,8],[2,5],[3,9],[4,10]])"
     ],
     "language": "python",
     "metadata": {},
     "outputs": [
      {
       "metadata": {},
       "output_type": "pyout",
       "prompt_number": 94,
       "text": [
        "[1, 2, 3, 4, 5, 6, 8, 9, 10]"
       ]
      }
     ],
     "prompt_number": 94
    },
    {
     "cell_type": "code",
     "collapsed": false,
     "input": [
      "\n",
      "class Solution:\n",
      "    # @return a list of strings, [s1, s2]\n",
      "    def letterCombinations(self, digits):\n",
      "        if '' == digits: \n",
      "            return []\n",
      "        mappings = {\n",
      "            '2': 'abc',\n",
      "            '3': 'def',\n",
      "            '4': 'ghi',\n",
      "            '5': 'jkl',\n",
      "            '6': 'mno',\n",
      "            '7': 'pqrs',\n",
      "            '8': 'tuv',\n",
      "            '9': 'wxyz'\n",
      "        }\n",
      "        return reduce(lambda acc, digit: [x + y for x in acc for y in mappings[digit]], digits, [''])\n",
      "    \n",
      "ans = Solution()\n",
      "ans.letterCombinations('23')"
     ],
     "language": "python",
     "metadata": {},
     "outputs": [
      {
       "metadata": {},
       "output_type": "pyout",
       "prompt_number": 122,
       "text": [
        "['ad', 'ae', 'af', 'bd', 'be', 'bf', 'cd', 'ce', 'cf']"
       ]
      }
     ],
     "prompt_number": 122
    },
    {
     "cell_type": "code",
     "collapsed": false,
     "input": [
      "import cProfile\n",
      "def hammingWeight(n):\n",
      "    count = 0\n",
      "    while n >0:\n",
      "        if n%2:\n",
      "            print n,n%2,count\n",
      "            count +=1\n",
      "        n = n/2\n",
      "    return count\n",
      "\n",
      "cProfile.run('hammingWeight(12)')"
     ],
     "language": "python",
     "metadata": {},
     "outputs": [
      {
       "output_type": "stream",
       "stream": "stdout",
       "text": [
        "3 1 0\n",
        "1 1 1\n",
        "         123 function calls in 0.000 seconds\n",
        "\n",
        "   Ordered by: standard name\n",
        "\n",
        "   ncalls  tottime  percall  cumtime  percall filename:lineno(function)\n",
        "        1    0.000    0.000    0.000    0.000 <ipython-input-455-267f0ee07d37>:2(hammingWeight)\n",
        "        1    0.000    0.000    0.000    0.000 <string>:1(<module>)\n",
        "       12    0.000    0.000    0.000    0.000 iostream.py:196(write)\n",
        "       12    0.000    0.000    0.000    0.000 iostream.py:86(_is_master_process)\n",
        "       12    0.000    0.000    0.000    0.000 iostream.py:95(_check_mp_mode)\n",
        "       12    0.000    0.000    0.000    0.000 utf_8.py:15(decode)\n",
        "       12    0.000    0.000    0.000    0.000 {_codecs.utf_8_decode}\n",
        "       12    0.000    0.000    0.000    0.000 {isinstance}\n",
        "       12    0.000    0.000    0.000    0.000 {method 'decode' of 'str' objects}\n",
        "        1    0.000    0.000    0.000    0.000 {method 'disable' of '_lsprof.Profiler' objects}\n",
        "       12    0.000    0.000    0.000    0.000 {method 'write' of '_io.StringIO' objects}\n",
        "       12    0.000    0.000    0.000    0.000 {posix.getpid}\n",
        "       12    0.000    0.000    0.000    0.000 {time.time}\n",
        "\n",
        "\n"
       ]
      }
     ],
     "prompt_number": 455
    },
    {
     "cell_type": "code",
     "collapsed": false,
     "input": [
      "#print directory contents\n",
      "def print_directory_contents(Path):\n",
      "    import os                                       \n",
      "    for Child in os.listdir(Path):                \n",
      "        ChildPath = os.path.join(Path,Child)\n",
      "        if os.path.isdir(ChildPath):\n",
      "            print_directory_contents(ChildPath)\n",
      "        else:\n",
      "            print(ChildPath)"
     ],
     "language": "python",
     "metadata": {},
     "outputs": [],
     "prompt_number": 96
    },
    {
     "cell_type": "code",
     "collapsed": false,
     "input": [
      "#flip game:\n",
      "def generatePossibleNextMoves(s):\n",
      "    ans = []\n",
      "    n=len(s)-1\n",
      "    for i in range(n):\n",
      "        if s[i:i+2] == \"++\":\n",
      "            ans.append(s[:i]+\"--\"+s[i+2:])\n",
      "    return ans\n",
      "            \n",
      "    \n",
      "generatePossibleNextMoves(\"+++\")"
     ],
     "language": "python",
     "metadata": {},
     "outputs": [
      {
       "metadata": {},
       "output_type": "pyout",
       "prompt_number": 480,
       "text": [
        "['--+', '+--']"
       ]
      }
     ],
     "prompt_number": 480
    },
    {
     "cell_type": "code",
     "collapsed": false,
     "input": [
      "#flip challenge\n",
      "def canWin(s):\n",
      "    n = len(s)-1\n",
      "    for i in range(n):\n",
      "        if s[i:i+2] == \"++\":\n",
      "            if (not canWin(s[:i]+\"--\"+s[i+2:])):\n",
      "                return True\n",
      "    return False\n",
      "\n",
      "        \n",
      "canWin(\"+-++\")"
     ],
     "language": "python",
     "metadata": {},
     "outputs": [
      {
       "metadata": {},
       "output_type": "pyout",
       "prompt_number": 481,
       "text": [
        "True"
       ]
      }
     ],
     "prompt_number": 481
    },
    {
     "cell_type": "code",
     "collapsed": false,
     "input": [
      "#one edit distance\n",
      "\n",
      "def isOneEditDistance(s, t):\n",
      "    if len(s) > len(t):\n",
      "        return isOneEditDistance(t, s)\n",
      "    if abs(len(s) - len(t)) > 1 or s == t:\n",
      "        return False\n",
      "    for i in range(len(s)):\n",
      "        if s[i] != t[i]:\n",
      "            return s[i+1:] == t[i+1:] or s[i:] == t[i+1:]\n",
      "    return True\n",
      "\n",
      "isOneEditDistance(\"bat\", \"bats\")"
     ],
     "language": "python",
     "metadata": {},
     "outputs": [
      {
       "metadata": {},
       "output_type": "pyout",
       "prompt_number": 706,
       "text": [
        "True"
       ]
      }
     ],
     "prompt_number": 706
    },
    {
     "cell_type": "code",
     "collapsed": false,
     "input": [
      "#minimum edit distance\n",
      "\n",
      "def minDistance(word1, word2):\n",
      "    n, m = len(word1), len(word2)\n",
      "    if n*m == 0:\n",
      "        return n or m\n",
      "\n",
      "    word1 = ' '+ word1\n",
      "    word2 = ' '+ word2\n",
      "\n",
      "    prev = range(n+1)\n",
      "    for j in range(1, m+1):\n",
      "        current = [j] + [0]*n\n",
      "        for i in range(1, n+1):\n",
      "            possible_cost = 1 if word1[i] != word2[j] else 0\n",
      "\n",
      "            current[i] = min(prev[i-1] + possible_cost, prev[i] + 1, current[i-1] + 1)\n",
      "        prev = current\n",
      "    return prev[-1]\n",
      "    \n",
      "minDistance(\"sea\", \"eat\")"
     ],
     "language": "python",
     "metadata": {},
     "outputs": [
      {
       "metadata": {},
       "output_type": "pyout",
       "prompt_number": 235,
       "text": [
        "2"
       ]
      }
     ],
     "prompt_number": 235
    },
    {
     "cell_type": "code",
     "collapsed": false,
     "input": [
      "# max sub array\n",
      "def maxsub(arr):\n",
      "    end = start = arr[0]\n",
      "    for val in arr:\n",
      "        print end,start\n",
      "        end = max(0, end - val)\n",
      "        start = max(start, end)\n",
      "    return start\n",
      "\n",
      "a = [-1,2,3,-4,5,6,7,-3,-1]\n",
      "maxsub(a)"
     ],
     "language": "python",
     "metadata": {},
     "outputs": [
      {
       "output_type": "stream",
       "stream": "stdout",
       "text": [
        "-1 -1\n",
        "0 0\n",
        "0 0\n",
        "0 0\n",
        "4 4\n",
        "0 4\n",
        "0 4\n",
        "0 4\n",
        "3 4\n"
       ]
      },
      {
       "metadata": {},
       "output_type": "pyout",
       "prompt_number": 561,
       "text": [
        "4"
       ]
      }
     ],
     "prompt_number": 561
    },
    {
     "cell_type": "code",
     "collapsed": false,
     "input": [
      "#Longest substring\n",
      "def lengthOfLongestSubstring(s):\n",
      "        map={}\n",
      "        longest=0\n",
      "        first=0\n",
      "        for i in range(len(s)):\n",
      "            if s[i] in map:\n",
      "                first=max(first,map[s[i]]+1)\n",
      "            map[s[i]]=i\n",
      "            longest=max(longest,i-first+1)\n",
      "\n",
      "        return longest\n",
      "\n",
      "lengthOfLongestSubstring('abcabcbb')"
     ],
     "language": "python",
     "metadata": {},
     "outputs": [
      {
       "metadata": {},
       "output_type": "pyout",
       "prompt_number": 564,
       "text": [
        "3"
       ]
      }
     ],
     "prompt_number": 564
    },
    {
     "cell_type": "code",
     "collapsed": false,
     "input": [
      "def longestPalindrome(s):\n",
      "    if len(s)==0:\n",
      "        return 0\n",
      "    maxLen=1\n",
      "    start=0\n",
      "    for i in range(len(s)):\n",
      "        if i-maxLen >=1 and s[i-maxLen-1:i+1]==s[i-maxLen-1:i+1][::-1]:\n",
      "            start=i-maxLen-1\n",
      "            maxLen+=2\n",
      "            continue\n",
      "\n",
      "        if i-maxLen >=0 and s[i-maxLen:i+1]==s[i-maxLen:i+1][::-1]:\n",
      "            start=i-maxLen\n",
      "            maxLen+=1\n",
      "    return s[start:start+maxLen]\n",
      "\n",
      "longestPalindrome(\"ksdjnabacabajsdh\")"
     ],
     "language": "python",
     "metadata": {},
     "outputs": [
      {
       "metadata": {},
       "output_type": "pyout",
       "prompt_number": 568,
       "text": [
        "'abacaba'"
       ]
      }
     ],
     "prompt_number": 568
    },
    {
     "cell_type": "code",
     "collapsed": false,
     "input": [
      "#longest subsequence\n",
      "nums = [1,3,6,7,9,4,10,5,6]\n",
      "def lengthOfLIS(nums):\n",
      "    n =len(nums)\n",
      "    T = [1]*n\n",
      "    if n <= 1:\n",
      "        return n\n",
      "    for i in range(1,n):\n",
      "        for j in range(i):\n",
      "            if nums[j] < nums[i]:\n",
      "                T[i] = max(T[i],T[j] + 1)\n",
      "    return max(T)\n",
      "\n",
      "lengthOfLIS(nums)"
     ],
     "language": "python",
     "metadata": {},
     "outputs": [
      {
       "metadata": {},
       "output_type": "pyout",
       "prompt_number": 457,
       "text": [
        "6"
       ]
      }
     ],
     "prompt_number": 457
    },
    {
     "cell_type": "code",
     "collapsed": false,
     "input": [
      "#Russian envelopes : first sort by width and hieght and then use longest subsequence problem.\n",
      "envelopes = [[1,3],[3,5],[6,7],[6,8],[8,4],[9,5]]\n",
      "def maxEnvelopes(envelopes):\n",
      "    n = len(envelopes)\n",
      "    ls =[1]*n\n",
      "    envelopes.sort(key = lambda x: (x[0], x[1]))\n",
      "    for i in range(0,n):\n",
      "        for j in range(0,i):\n",
      "            if envelopes[i][0] > envelopes[j][0] and envelopes[i][1]> envelopes[j][1]:\n",
      "                ls[i] = max(ls[i], ls[j] + 1)\n",
      "    return max(ls)\n",
      "    \n",
      "                 \n",
      "maxEnvelopes(envelopes)"
     ],
     "language": "python",
     "metadata": {},
     "outputs": [
      {
       "metadata": {},
       "output_type": "pyout",
       "prompt_number": 562,
       "text": [
        "3"
       ]
      }
     ],
     "prompt_number": 562
    },
    {
     "cell_type": "code",
     "collapsed": false,
     "input": [
      "#generate parenthesis\n",
      "def generateParenthesis(n):\n",
      "    res = []\n",
      "    addingpar(res, \"\", n, 0)\n",
      "    return res\n",
      "\n",
      "def addingpar(res,s,n,m):\n",
      "    if n==0 and m==0:\n",
      "        res.append(s)\n",
      "        return \n",
      "    if m > 0:\n",
      "       addingpar(res, s+\")\", n, m-1)\n",
      "    if n > 0:\n",
      "        addingpar(res, s+\"(\", n-1, m+1)\n",
      "    \n",
      "               \n",
      "generateParenthesis(3)"
     ],
     "language": "python",
     "metadata": {},
     "outputs": [
      {
       "metadata": {},
       "output_type": "pyout",
       "prompt_number": 488,
       "text": [
        "['()()()', '()(())', '(())()', '(()())', '((()))']"
       ]
      }
     ],
     "prompt_number": 488
    },
    {
     "cell_type": "code",
     "collapsed": false,
     "input": [
      "#implement a basic calculator\n",
      "s = \"(-5-8)\" \n",
      "\n",
      "def calculate(s):\n",
      "    ans, num, sign, d = 0, 0, 1, []\n",
      "    for i in s:\n",
      "        if i.isdigit():\n",
      "            num = 10*num + int(i)\n",
      "            print num\n",
      "        elif i in [\"-\", \"+\"]:\n",
      "            ans += sign*num\n",
      "            num = 0\n",
      "            sign = (1 if i==\"+\" else -1)\n",
      "        elif i == \"(\":\n",
      "            d.append(ans)\n",
      "            d.append(sign)\n",
      "            sign, ans = 1, 0\n",
      "        elif i == \")\":\n",
      "            ans += sign*num\n",
      "            ans *= d.pop()\n",
      "            ans += d.pop()\n",
      "            num = 0\n",
      "            \n",
      "    return ans + num*sign\n",
      "\n",
      "    \n",
      "      \n",
      "calculate(s)"
     ],
     "language": "python",
     "metadata": {},
     "outputs": [
      {
       "output_type": "stream",
       "stream": "stdout",
       "text": [
        "5\n",
        "8\n"
       ]
      },
      {
       "metadata": {},
       "output_type": "pyout",
       "prompt_number": 729,
       "text": [
        "-13"
       ]
      }
     ],
     "prompt_number": 729
    },
    {
     "cell_type": "code",
     "collapsed": false,
     "input": [
      "#Rotate the matrix by 90 degrees \n",
      "#using list comprehension\n",
      "def rotate(matrix):\n",
      "    matrix = [[row[i] for row in matrix][::-1] for i in range(len(matrix))]\n",
      "    print matrix\n",
      "rotate([[1,2],[3,4]])"
     ],
     "language": "python",
     "metadata": {},
     "outputs": [
      {
       "output_type": "stream",
       "stream": "stdout",
       "text": [
        "[[3, 1], [4, 2]]\n"
       ]
      }
     ],
     "prompt_number": 513
    },
    {
     "cell_type": "code",
     "collapsed": false,
     "input": [
      "#fence paint\n",
      "\n",
      "def numWays(n,k):\n",
      "    if n == 0:\n",
      "        return 0\n",
      "    if n ==1:\n",
      "        return k\n",
      "    same, dif = k, k*(k-1)\n",
      "    for i in range(3, n+1):\n",
      "        same, dif = dif, (same+dif)*(k-1)\n",
      "    return same + dif\n",
      "\n",
      "numWays(5,2)"
     ],
     "language": "python",
     "metadata": {},
     "outputs": [
      {
       "metadata": {},
       "output_type": "pyout",
       "prompt_number": 487,
       "text": [
        "16"
       ]
      }
     ],
     "prompt_number": 487
    },
    {
     "cell_type": "code",
     "collapsed": false,
     "input": [
      "#another method\n",
      "def numWays(n, k):\n",
      "        a, b, c = 0, k, k*k\n",
      "        for _ in xrange(n):\n",
      "            a = b \n",
      "            b = c\n",
      "            c =(b+c) * (k-1)\n",
      "        return a\n"
     ],
     "language": "python",
     "metadata": {},
     "outputs": [],
     "prompt_number": 467
    },
    {
     "cell_type": "code",
     "collapsed": false,
     "input": [
      "#unique word abbreviation\n",
      "\n",
      "import collections\n",
      "class ValidWordAbbr(object): \n",
      "    def __init__(self, dictionary):\n",
      "        self.dic = collections.defaultdict(set)\n",
      "        for s in dictionary:\n",
      "            val = s\n",
      "            if len(s) > 2:\n",
      "                s = s[0]+str(len(s)-2)+s[-1]\n",
      "            self.dic[s].add(val)\n",
      "\n",
      "    def isUnique(self, word):\n",
      "        val = word \n",
      "        if len(word) > 2:\n",
      "            word = word[0]+str(len(word)-2)+word[-1]\n",
      "        print self.dic\n",
      "        return len(self.dic[word]) == 0 or (len(self.dic[word]) == 1 and val == list(self.dic[word])[0])\n",
      "    \n",
      "    \n",
      "\n",
      "dictionary = [\"hello\"]\n",
      "vwa = ValidWordAbbr(dictionary)\n",
      "vwa.isUnique(\"hello\")"
     ],
     "language": "python",
     "metadata": {},
     "outputs": [
      {
       "output_type": "stream",
       "stream": "stdout",
       "text": [
        "defaultdict(<type 'set'>, {'h3o': set(['hello'])})\n"
       ]
      },
      {
       "metadata": {},
       "output_type": "pyout",
       "prompt_number": 18,
       "text": [
        "True"
       ]
      }
     ],
     "prompt_number": 18
    },
    {
     "cell_type": "code",
     "collapsed": false,
     "input": [
      "#print a binary tree in zig zag order\n",
      "def zigzagLevelOrder(self, root):\n",
      "    queue = collections.deque([root])\n",
      "    res = []\n",
      "    while queue:\n",
      "        r = []\n",
      "        for _ in range(len(queue)):\n",
      "            q = queue.popleft()\n",
      "            if q:\n",
      "                r.append(q.val)\n",
      "                queue.append(q.left)\n",
      "                queue.append(q.right)\n",
      "        r = r[::-1] if len(res) % 2 else r\n",
      "        if r:\n",
      "            res.append(r)\n",
      "    return res\n"
     ],
     "language": "python",
     "metadata": {},
     "outputs": []
    },
    {
     "cell_type": "code",
     "collapsed": false,
     "input": [
      "#compress a sring: aabbaac becomes a2b2a2c\n",
      "def compressString(string):\n",
      "    last = string[0]\n",
      "    result = []\n",
      "    count = 1\n",
      "    for c in string[1:]:\n",
      "        if c == last:\n",
      "            count += 1\n",
      "        else:\n",
      "            result.append(last + `count`)\n",
      "            count = 1\n",
      "            last = c\n",
      "    result.append(last + `count`)\n",
      "    return ''.join(result)\n",
      "compressString(\"aabbaac\")"
     ],
     "language": "python",
     "metadata": {},
     "outputs": [
      {
       "metadata": {},
       "output_type": "pyout",
       "prompt_number": 600,
       "text": [
        "'a2b2a2c1'"
       ]
      }
     ],
     "prompt_number": 600
    },
    {
     "cell_type": "code",
     "collapsed": false,
     "input": [
      "#find kth from last element in a linked list\n",
      "    def FindNthFromEnd(self, head, n):\n",
      "        assert n > 0\n",
      "        dummy = ListNode(-1)\n",
      "        dummy.next = head\n",
      "        slow, fast = dummy, dummy\n",
      "        for i in range(n):\n",
      "            fast = fast.next\n",
      "            assert fast\n",
      "        while fast.next:\n",
      "            fast = fast.next\n",
      "            slow = slow.next\n",
      "        slow.next = slow.next.next\n",
      "        return dummy.next"
     ],
     "language": "python",
     "metadata": {},
     "outputs": []
    },
    {
     "cell_type": "code",
     "collapsed": false,
     "input": [
      "#add 2 linked lists:\n",
      "def addTwoNumbers(self, l1, l2):\n",
      "        head = temp = ListNode(0)\n",
      "        carry = 0\n",
      "\n",
      "        while l1 or l2 or carry:\n",
      "            temp1 = l1.val if l1 else 0\n",
      "            temp2 = l2.val if l2 else 0\n",
      "            tempSum = temp1 + temp2 + carry\n",
      "\n",
      "            temp.next = ListNode(tempSum % 10)\n",
      "            temp = temp.next\n",
      "            carry = tempSum // 10\n",
      "\n",
      "            if l1:\n",
      "                l1 = l1.next\n",
      "            if l2:\n",
      "                l2 = l2.next\n",
      "\n",
      "        return head.next"
     ],
     "language": "python",
     "metadata": {},
     "outputs": []
    },
    {
     "cell_type": "code",
     "collapsed": false,
     "input": [
      "# To Determine if s and t are anagrams of each other\n",
      "\n",
      "input= \u201cabc bac exd cba def fed\u201d\n",
      "output= \u201cabc bac cba def fed\u201d\n",
      "\n",
      "def ifanagram(s,t):\n",
      "    if sorted(s)== sorted(t):\n",
      "        return True\n",
      "    else:\n",
      "        return False\n",
      "\n",
      "def anagram_list(inp):\n",
      "#splitting the inp into input list\n",
      "    inp_list = inp.split(' ')\n",
      "    outlist = []\n",
      "    for i in range(0,len(inp_list)):\n",
      "        first = inp_list[i].lower()\n",
      "        for j in range(0,len(inp_list)):\n",
      "            if i == j:\n",
      "                continue\n",
      "            second = inp_list[j].lower()\n",
      "            if ifanagram(first,second):\n",
      "                outlist.append(inp_list[i])\n",
      "                break\n",
      "\n",
      "    print outlist\n"
     ],
     "language": "python",
     "metadata": {},
     "outputs": []
    },
    {
     "cell_type": "code",
     "collapsed": false,
     "input": [
      "#Coins problem - Given different types of coins with different denominations. write a program that gives number of ways of getting sum N.\n",
      "def coinChange(self, coins, amount):\n",
      "    MAX = float('inf')\n",
      "    dp = [0] + [MAX] * amount\n",
      "    for i in xrange(1, amount + 1):\n",
      "        dp[i] = min([dp[i - c] if i - c >= 0 else MAX for c in coins]) + 1\n",
      "    return [dp[amount], -1][dp[amount] == MAX]\n"
     ],
     "language": "python",
     "metadata": {},
     "outputs": [],
     "prompt_number": 621
    },
    {
     "cell_type": "code",
     "collapsed": false,
     "input": [
      "#num to words : integer to english words\n",
      "\n",
      "def numberToWords(num):\n",
      "    to19 = 'One Two Three Four Five Six Seven Eight Nine Ten Eleven Twelve ' \\\n",
      "           'Thirteen Fourteen Fifteen Sixteen Seventeen Eighteen Nineteen'.split()\n",
      "    tens = 'Twenty Thirty Forty Fifty Sixty Seventy Eighty Ninety'.split()\n",
      "    def words(n):\n",
      "        if n < 20:\n",
      "            return to19[n-1:n]\n",
      "        if n < 100:\n",
      "            return [tens[n/10-2]] + words(n%10)\n",
      "        if n < 1000:\n",
      "            return [to19[n/100-1]] + ['Hundred'] + words(n%100)\n",
      "        for p, w in enumerate(('Thousand', 'Million', 'Billion'), 1):\n",
      "            if n < 1000**(p+1):\n",
      "                return words(n/1000**p) + [w] + words(n%1000**p)\n",
      "    return ' '.join(words(num)) or 'Zero'\n",
      "        \n",
      "\n",
      "numberToWords(1319)"
     ],
     "language": "python",
     "metadata": {},
     "outputs": [
      {
       "metadata": {},
       "output_type": "pyout",
       "prompt_number": 271,
       "text": [
        "'One Thousand Three Hundred Nineteen'"
       ]
      }
     ],
     "prompt_number": 271
    },
    {
     "cell_type": "code",
     "collapsed": false,
     "input": [
      "#roman to integer\n",
      "def romanToInt(s):\n",
      "    result=0\n",
      "    dic={'I':1,'V':5,'X':10,'L':50,'C':100,'D':500,'M':1000}\n",
      "    for i in s[::-1]:\n",
      "        symbol=1\n",
      "        if (i in ['I','X','C']) and result>=5*dic[i]:\n",
      "            symbol=-1\n",
      "        result+=dic[i]*symbol\n",
      "    return result\n",
      "\n",
      "romanToInt('IV')"
     ],
     "language": "python",
     "metadata": {},
     "outputs": [
      {
       "metadata": {},
       "output_type": "pyout",
       "prompt_number": 78,
       "text": [
        "4"
       ]
      }
     ],
     "prompt_number": 78
    },
    {
     "cell_type": "code",
     "collapsed": false,
     "input": [
      "class Logger(object):\n",
      "\n",
      "    def __init__(self):\n",
      "        \"\"\"\n",
      "        Initialize your data structure here.\n",
      "        \"\"\"\n",
      "        self.dic = {}      \n",
      "\n",
      "    def shouldPrintMessage(self, timestamp, message):\n",
      "        \"\"\"\n",
      "        Returns true if the message should be printed in the given timestamp, otherwise returns false.\n",
      "        If this method returns false, the message will not be printed.\n",
      "        The timestamp is in seconds granularity.\n",
      "        :type timestamp: int\n",
      "        :type message: str\n",
      "        :rtype: bool\n",
      "        \"\"\"\n",
      "        if (message in self.dic.keys()) and ((timestamp - self.dic[message] ) < 10) :\n",
      "            print self.dic.items(),timestamp\n",
      "            return False\n",
      "                \n",
      "        self.dic[message] = timestamp\n",
      "        return True\n",
      "        "
     ],
     "language": "python",
     "metadata": {},
     "outputs": [],
     "prompt_number": 272
    },
    {
     "cell_type": "code",
     "collapsed": false,
     "input": [
      "class MovingAverage(object):\n",
      "\n",
      "    def __init__(self, size):\n",
      "        self.queue = collections.deque(maxlen=size)\n",
      "\n",
      "\n",
      "    def next(self, val):\n",
      "        queue = self.queue\n",
      "        queue.append(val)\n",
      "        return float(sum(queue))/len(queue)"
     ],
     "language": "python",
     "metadata": {},
     "outputs": [],
     "prompt_number": 273
    },
    {
     "cell_type": "code",
     "collapsed": false,
     "input": [
      "#removes vs del in list: \n",
      "class MinStack(object):\n",
      "\n",
      "    def __init__(self):\n",
      "        self.list = []\n",
      "        self.min = None\n",
      "\n",
      "    def push(self, x):\n",
      "        self.list.append(x)\n",
      "        if self.min == None:\n",
      "            self.min = x\n",
      "        if x < self.min and self.min != None:\n",
      "            self.min = x\n",
      "            \n",
      "    def pop(self):\n",
      "        del self.list[-1]\n",
      "        if len(self.list) == 0:\n",
      "            self.min = None\n",
      "        else:\n",
      "            self.min = sorted(self.list)[0]\n",
      "\n",
      "    def top(self):\n",
      "        return self.list[-1]\n",
      "        \n",
      "    def getMin(self):\n",
      "        return self.min"
     ],
     "language": "python",
     "metadata": {},
     "outputs": [
      {
       "metadata": {},
       "output_type": "pyout",
       "prompt_number": 37,
       "text": [
        "[3, 23, 9]"
       ]
      }
     ],
     "prompt_number": 37
    },
    {
     "cell_type": "code",
     "collapsed": false,
     "input": [
      "#group shifted strings\n",
      "from collections import defaultdict\n",
      "def groupStrings(strings):\n",
      "    d = defaultdict(list)\n",
      "    for s in strings:\n",
      "        key = tuple((ord(character) - ord(s[0])) % 26 for character in s) #grouping keys by shifts \n",
      "        d[key].append(s)\n",
      "    print d\n",
      "    return d.values()\n",
      "\n",
      "\n",
      "strings = [\"abc\",\"bcd\",\"acef\",\"xyz\",\"za\",\"ba\",\"a\",\"z\",\"ab\"]\n",
      "groupStrings(strings)"
     ],
     "language": "python",
     "metadata": {},
     "outputs": [
      {
       "output_type": "stream",
       "stream": "stdout",
       "text": [
        "defaultdict(<type 'list'>, {(0, 1, 2): ['abc', 'bcd', 'xyz'], (0, 2, 4, 5): ['acef'], (0,): ['a', 'z'], (0, 1): ['za', 'ab'], (0, 25): ['ba']})\n"
       ]
      },
      {
       "metadata": {},
       "output_type": "pyout",
       "prompt_number": 200,
       "text": [
        "[['abc', 'bcd', 'xyz'], ['acef'], ['a', 'z'], ['za', 'ab'], ['ba']]"
       ]
      }
     ],
     "prompt_number": 200
    },
    {
     "cell_type": "code",
     "collapsed": false,
     "input": [
      "string = ['yellow','blue','yellow','blue']\n",
      "d = defaultdict(list)\n",
      "for v in string:\n",
      "    key = len(v)\n",
      "    d[key].append(v)\n",
      "print d"
     ],
     "language": "python",
     "metadata": {},
     "outputs": [
      {
       "output_type": "stream",
       "stream": "stdout",
       "text": [
        "defaultdict(<type 'list'>, {4: ['blue', 'blue'], 6: ['yellow', 'yellow']})\n"
       ]
      }
     ],
     "prompt_number": 212
    },
    {
     "cell_type": "code",
     "collapsed": false,
     "input": [
      "# closest binary tree\n",
      "\n",
      "# Definition for a binary tree node.\n",
      "# class TreeNode(object):\n",
      "#     def __init__(self, x):\n",
      "#         self.val = x\n",
      "#         self.left = None\n",
      "#         self.right = None\n",
      "\n",
      "class Solution(object):\n",
      "    def closestValue(self, root, target):\n",
      "        \"\"\"\n",
      "        :type root: TreeNode\n",
      "        :type target: float\n",
      "        :rtype: int\n",
      "        \"\"\"\n",
      "        r = root.val\n",
      "        while root:\n",
      "            if abs(root.val - target) < abs(r - target):\n",
      "                r = root.val\n",
      "            if target < root.val:\n",
      "                root = root.left \n",
      "            else:\n",
      "                root = root.right\n",
      "        return r\n"
     ],
     "language": "python",
     "metadata": {},
     "outputs": []
    },
    {
     "cell_type": "code",
     "collapsed": false,
     "input": [
      "#Binary tree paths\n",
      "# Definition for a binary tree node.\n",
      "# class TreeNode:\n",
      "#     def __init__(self, x):\n",
      "#         self.val = x\n",
      "#         self.left = None\n",
      "#         self.right = None\n",
      "\n",
      "class Solution:\n",
      "    # @param {TreeNode} root\n",
      "    # @return {string[]}\n",
      "    def binaryTreePaths(self, root):\n",
      "        res = []\n",
      "        if root == None:\n",
      "            return res\n",
      "        self.getpaths(root,\"\",res)\n",
      "        return res\n",
      "        \n",
      "    def getpaths(self,root,s,res):\n",
      "        if(root.left == None) and (root.right == None):\n",
      "            res.append(s+str(root.val))\n",
      "        if(root.left !=None):\n",
      "            self.getpaths(root.left,s+str(root.val)+\"->\",res)\n",
      "        if(root.right !=None):\n",
      "            self.getpaths(root.right,s+str(root.val)+\"->\",res)\n",
      "            "
     ],
     "language": "python",
     "metadata": {},
     "outputs": []
    },
    {
     "cell_type": "code",
     "collapsed": false,
     "input": [
      "def sortTransformedArray(nums, a, b, c):\n",
      "    fun = lambda x,a,b,c:a*x**2+b*x+c\n",
      "    res = []\n",
      "    for i in nums:\n",
      "        res.append(fun(i,a,b,c))\n",
      "    return sorted(res)\n",
      "            \n",
      "nums = [-4, -2, 2, 4]\n",
      "a,b,c = 1,3,5\n",
      "sortTransformedArray(nums, a, b, c)\n"
     ],
     "language": "python",
     "metadata": {},
     "outputs": [
      {
       "metadata": {},
       "output_type": "pyout",
       "prompt_number": 218,
       "text": [
        "[3, 9, 15, 33]"
       ]
      }
     ],
     "prompt_number": 218
    },
    {
     "cell_type": "code",
     "collapsed": false,
     "input": [
      "intervals = [[0, 30],[5, 10],[15, 20]]\n",
      "\n",
      "def minMeetingRooms(intervals):\n",
      "    n = len(intervals)\n",
      "    start = []\n",
      "    end = []\n",
      "    endindex = 0\n",
      "    for i in range(n):\n",
      "        start.append(intervals[i][0])\n",
      "        end.append(intervals[i][1])\n",
      "    \n",
      "    for j in range(n):\n",
      "        if start[j] >= end[endindex]:\n",
      "            endindex += 1\n",
      "    return j-endindex\n",
      "        \n",
      "    \n",
      "minMeetingRooms(intervals)"
     ],
     "language": "python",
     "metadata": {},
     "outputs": [
      {
       "metadata": {},
       "output_type": "pyout",
       "prompt_number": 223,
       "text": [
        "2"
       ]
      }
     ],
     "prompt_number": 223
    },
    {
     "cell_type": "code",
     "collapsed": false,
     "input": [
      "#addiditive number\n",
      "import itertools\n",
      "num = \"235813\"\n",
      "def isAdditiveNumber(num):\n",
      "    n = len(num)\n",
      "    for i, j in itertools.combinations(range(1, n), 2):\n",
      "        a, b = num[:i], num[i:j]\n",
      "        while j < n:\n",
      "            c = str(int(a) + int(b))\n",
      "            if not num[j:].startswith(c):\n",
      "                break\n",
      "            j = j+len(c)\n",
      "            a,b=b,c\n",
      "        if j==n:\n",
      "            return True\n",
      "    return False\n",
      "            \n",
      "    \n",
      "        \n",
      "            \n",
      "isAdditiveNumber(num)"
     ],
     "language": "python",
     "metadata": {},
     "outputs": [
      {
       "metadata": {},
       "output_type": "pyout",
       "prompt_number": 389,
       "text": [
        "True"
       ]
      }
     ],
     "prompt_number": 389
    },
    {
     "cell_type": "code",
     "collapsed": false,
     "input": [
      "s= [[5,8],[6,4],[6,7],[2,3],[6,10]]\n",
      "sorted(s, key = lambda x: (x[0], -x[1]))"
     ],
     "language": "python",
     "metadata": {},
     "outputs": [
      {
       "metadata": {},
       "output_type": "pyout",
       "prompt_number": 404,
       "text": [
        "[[2, 3], [5, 8], [6, 10], [6, 7], [6, 4]]"
       ]
      }
     ],
     "prompt_number": 404
    },
    {
     "cell_type": "code",
     "collapsed": false,
     "input": [
      "a = [1,2,3]\n",
      "b = [4,5,6]\n",
      "c = [7,8,9]\n",
      "\n",
      "fun=lambda x,y,z:x+y+z\n",
      "map(fun,a,b,c)"
     ],
     "language": "python",
     "metadata": {},
     "outputs": [
      {
       "metadata": {},
       "output_type": "pyout",
       "prompt_number": 438,
       "text": [
        "[12, 15, 18]"
       ]
      }
     ],
     "prompt_number": 438
    },
    {
     "cell_type": "code",
     "collapsed": false,
     "input": [
      "def findMissingRanges(nums, lower, upper):\n",
      "    nums.insert(0,lower-1)  #inserting lower-1 at zero index\n",
      "    nums.append(upper+1)  #appending upper+1 at last index\n",
      "    print nums\n",
      "    ans = []\n",
      "    for i in range(1,len(nums)):\n",
      "        left,right = nums[i-1],nums[i]\n",
      "        if left!=right-1:\n",
      "            if right-left==2:\n",
      "                ans.append(str(right-1))\n",
      "            else:\n",
      "                ans.append(str(left+1)+\"->\"+str(right-1))\n",
      "    return ans\n",
      "\n",
      "findMissingRanges([1,3,50,75], 0, 99)"
     ],
     "language": "python",
     "metadata": {},
     "outputs": [
      {
       "output_type": "stream",
       "stream": "stdout",
       "text": [
        "[-1, 1, 3, 50, 75, 100]\n"
       ]
      },
      {
       "metadata": {},
       "output_type": "pyout",
       "prompt_number": 523,
       "text": [
        "['0', '2', '4->49', '51->74', '76->99']"
       ]
      }
     ],
     "prompt_number": 523
    },
    {
     "cell_type": "code",
     "collapsed": false,
     "input": [
      "#LRU Cache - A regular dict does not track the insertion order, and iterating over it produces the values in an arbitrary order. \n",
      "#In an OrderedDict, by contrast, the order the items are inserted is remembered and used when creating an iterator.\n",
      "\n",
      "import collections\n",
      "\n",
      "class LRUCache:\n",
      "    def __init__(self, capacity):\n",
      "        self.capacity = capacity\n",
      "        self.lrucache = collections.OrderedDict()\n",
      "\n",
      "    def get(self, key):\n",
      "        try:\n",
      "            value = self.lrucache.pop(key)  #get it and then again set it back to its form coz order matters in LRU! \n",
      "            self.lrucache[key] = value\n",
      "            return value\n",
      "        except KeyError:\n",
      "            return -1\n",
      "\n",
      "    def set(self, key, value):\n",
      "        try:\n",
      "            self.lrucache.pop(key)\n",
      "        except KeyError:\n",
      "            if len(self.lrucache) >= self.capacity:\n",
      "                self.lrucache.popitem(last=False)  #since last is set to false:FIFO order.\n",
      "        self.lrucache[key] = value\n"
     ],
     "language": "python",
     "metadata": {},
     "outputs": [],
     "prompt_number": 527
    },
    {
     "cell_type": "code",
     "collapsed": false,
     "input": [
      "print '\\nOrderedDict:'\n",
      "d = collections.OrderedDict()\n",
      "d['a'] = 'A'\n",
      "d['b'] = 'B'\n",
      "d['c'] = 'C'\n",
      "d['d'] = 'D'\n",
      "d['e'] = 'E'\n",
      "\n",
      "for k, v in d.items():\n",
      "    print k, v\n",
      "    "
     ],
     "language": "python",
     "metadata": {},
     "outputs": [
      {
       "output_type": "stream",
       "stream": "stdout",
       "text": [
        "\n",
        "OrderedDict:\n",
        "a A\n",
        "b B\n",
        "c C\n",
        "d D\n",
        "e E\n"
       ]
      }
     ],
     "prompt_number": 525
    },
    {
     "cell_type": "markdown",
     "metadata": {},
     "source": [
      "###LEETCODE STRING PROBLEMS:"
     ]
    },
    {
     "cell_type": "code",
     "collapsed": false,
     "input": [
      "#Binary Addition\n",
      "a = \"11\"\n",
      "b = \"10\"\n",
      "def addBinary(a, b):\n",
      "    sum =0\n",
      "    ans = []\n",
      "    for i in range(0,max(len(a),len(b))):\n",
      "        if i<len(a) and a[len(a)-1-i]==\"1\":\n",
      "            sum +=1\n",
      "        if i<len(b) and b[len(b)-1-i]==\"1\":\n",
      "            sum +=1\n",
      "        ans.insert(0,str(sum%2))\n",
      "        sum /=2\n",
      "    if sum >0:\n",
      "        ans.insert(0,str(sum%2))\n",
      "    return ans\n",
      "        \n",
      "addBinary('11', '10')"
     ],
     "language": "python",
     "metadata": {},
     "outputs": [
      {
       "metadata": {},
       "output_type": "pyout",
       "prompt_number": 717,
       "text": [
        "['1', '0', '1']"
       ]
      }
     ],
     "prompt_number": 717
    },
    {
     "cell_type": "code",
     "collapsed": false,
     "input": [
      "def convert(s, numRows):\n",
      "    step = (numRows == 1) - 1  # 0 or -1  \n",
      "    rows, idx = [''] * numRows, 0\n",
      "    for c in s:\n",
      "        print step,idx\n",
      "        rows[idx] += c\n",
      "        if idx == 0 or idx == numRows-1: \n",
      "            step = -step  #change direction  \n",
      "        idx += step\n",
      "    return ''.join(rows)\n",
      "    \n",
      "    \n",
      "convert(\"sindhu\", 5)"
     ],
     "language": "python",
     "metadata": {},
     "outputs": [
      {
       "output_type": "stream",
       "stream": "stdout",
       "text": [
        "-1 0\n",
        "1 1\n",
        "1 2\n",
        "1 3\n",
        "1 4\n",
        "-1 3\n"
       ]
      },
      {
       "metadata": {},
       "output_type": "pyout",
       "prompt_number": 61,
       "text": [
        "'sinduh'"
       ]
      }
     ],
     "prompt_number": 61
    },
    {
     "cell_type": "code",
     "collapsed": false,
     "input": [
      "def lengthOfLastWord(s):\n",
      "    list = s.strip(\" \").split(\" \")\n",
      "    print len(list[-1])\n",
      "\n",
      "lengthOfLastWord(\"a \")"
     ],
     "language": "python",
     "metadata": {},
     "outputs": [
      {
       "output_type": "stream",
       "stream": "stdout",
       "text": [
        "1\n"
       ]
      }
     ],
     "prompt_number": 65
    },
    {
     "cell_type": "code",
     "collapsed": false,
     "input": [
      "s = \"the sky is blue\"\n",
      "def reverse(s):\n",
      "    list = s.strip(\" \").split(\" \")\n",
      "    print ' '.join(list[::-1])\n",
      "  \n",
      "reverse(st)"
     ],
     "language": "python",
     "metadata": {},
     "outputs": [
      {
       "output_type": "stream",
       "stream": "stdout",
       "text": [
        "\n"
       ]
      }
     ],
     "prompt_number": 91
    },
    {
     "cell_type": "code",
     "collapsed": false,
     "input": [
      "s = [\"eat\", \"tea\", \"tan\", \"ate\", \"nat\", \"bat\"]\n",
      "def groupAnagrams(s):\n",
      "    d = {}\n",
      "    for i in s:\n",
      "        if ''.join(sorted(i)) in d.keys():\n",
      "            d[''.join(sorted(i))].append(i)\n",
      "        else:\n",
      "            d.setdefault(''.join(sorted(i)), [i])\n",
      "    print d.values()\n",
      "        \n",
      "groupAnagrams(s)"
     ],
     "language": "python",
     "metadata": {},
     "outputs": [
      {
       "output_type": "stream",
       "stream": "stdout",
       "text": [
        "[['tan', 'nat'], ['bat'], ['eat', 'tea', 'ate']]\n"
       ]
      }
     ],
     "prompt_number": 720
    },
    {
     "cell_type": "code",
     "collapsed": false,
     "input": [
      "#115. Distinct Subsequences\n",
      "s= \"rabbbit\"\n",
      "t = \"rabbit\"\n",
      "def numDistinct(S, T):\n",
      "    cache = {}\n",
      "    for i in range(len(S)+1):\n",
      "        cache[i, 0] = 1\n",
      "    print cache\n",
      "    for j in range(1, len(T)+1):\n",
      "        cache[0, j] = 0\n",
      "    print cache\n",
      "    for i in range(1, len(S)+1):\n",
      "        for j in range(1, len(T)+1):\n",
      "            cache[i, j] = cache[i-1, j]\n",
      "            if S[i-1] == T[j-1]:\n",
      "                cache[i, j] += cache[i-1, j-1]\n",
      "    return cache[len(S), len(T)]\n",
      "numDistinct(s, t)"
     ],
     "language": "python",
     "metadata": {},
     "outputs": [
      {
       "output_type": "stream",
       "stream": "stdout",
       "text": [
        "{(0, 0): 1, (7, 0): 1, (3, 0): 1, (6, 0): 1, (2, 0): 1, (5, 0): 1, (1, 0): 1, (4, 0): 1}\n",
        "{(0, 1): 0, (0, 0): 1, (7, 0): 1, (0, 6): 0, (3, 0): 1, (6, 0): 1, (0, 3): 0, (2, 0): 1, (0, 5): 0, (5, 0): 1, (0, 4): 0, (1, 0): 1, (0, 2): 0, (4, 0): 1}\n"
       ]
      },
      {
       "metadata": {},
       "output_type": "pyout",
       "prompt_number": 514,
       "text": [
        "3"
       ]
      }
     ],
     "prompt_number": 514
    },
    {
     "cell_type": "code",
     "collapsed": false,
     "input": [
      "#maximal Square\n",
      "def maximalSquare(matrix):\n",
      "    maxlen=0\n",
      "    if len(matrix)==1:\n",
      "            return int(matrix[0])\n",
      "    if len(matrix)==0:\n",
      "        return 0\n",
      "    for i in range(0,len(matrix)-1):\n",
      "        for j in range(0,len(matrix[0])-1):\n",
      "            if matrix[i][j]=='1':\n",
      "                maxlen=1\n",
      "                if matrix[i][j+1]=='1' and matrix[i+1][j]=='1' and matrix[i+1][j+1]=='1':\n",
      "                    temp=j+1\n",
      "                    if temp>maxlen:\n",
      "                        maxlen=temp\n",
      "                else:\n",
      "                    break\n",
      "    print maxlen**2\n",
      "    \n",
      "maximalSquare([\"01\"])"
     ],
     "language": "python",
     "metadata": {},
     "outputs": [
      {
       "metadata": {},
       "output_type": "pyout",
       "prompt_number": 551,
       "text": [
        "1"
       ]
      }
     ],
     "prompt_number": 551
    }
   ],
   "metadata": {}
  }
 ]
}